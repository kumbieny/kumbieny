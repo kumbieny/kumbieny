{
  "nbformat": 4,
  "nbformat_minor": 0,
  "metadata": {
    "colab": {
      "name": "SimpleRNN Sine.ipynb",
      "provenance": [],
      "authorship_tag": "ABX9TyPJgLQNsAE1kBCKWNFTnBXg",
      "include_colab_link": true
    },
    "kernelspec": {
      "name": "python3",
      "display_name": "Python 3"
    },
    "language_info": {
      "name": "python"
    }
  },
  "cells": [
    {
      "cell_type": "markdown",
      "metadata": {
        "id": "view-in-github",
        "colab_type": "text"
      },
      "source": [
        "<a href=\"https://colab.research.google.com/github/kumbieny/kumbieny/blob/main/SimpleRNN_Sine.ipynb\" target=\"_parent\"><img src=\"https://colab.research.google.com/assets/colab-badge.svg\" alt=\"Open In Colab\"/></a>"
      ]
    },
    {
      "cell_type": "code",
      "execution_count": 1,
      "metadata": {
        "colab": {
          "base_uri": "https://localhost:8080/"
        },
        "id": "9k6rjg3Qxf3p",
        "outputId": "94b4c05e-f5a0-4f30-c6c2-b879248ed9f7"
      },
      "outputs": [
        {
          "output_type": "stream",
          "name": "stdout",
          "text": [
            "2.9.0\n"
          ]
        }
      ],
      "source": [
        "#install Tensorflow\n",
        "!pip install -q tensorflow-gpu==2.9.0\n",
        "import tensorflow as tf\n",
        "print(tf.__version__)"
      ]
    },
    {
      "cell_type": "code",
      "source": [
        "from tensorflow.keras.layers import Input, SimpleRNN, Dense, Flatten\n",
        "from tensorflow.keras.models import Model\n",
        "from tensorflow.keras.optimizers import SGD, Adam\n",
        "\n",
        "import numpy as np\n",
        "import pandas as pd\n",
        "import matplotlib.pyplot as plt\n"
      ],
      "metadata": {
        "id": "NsfOlzpkyJZN"
      },
      "execution_count": 2,
      "outputs": []
    },
    {
      "cell_type": "code",
      "source": [
        "#Make original data\n",
        "series = np.sin(0.1*np.arange(200)) + np.random.randn(200)*0.1\n",
        "#plot it\n",
        "plt.plot(series)\n",
        "plt.show()"
      ],
      "metadata": {
        "colab": {
          "base_uri": "https://localhost:8080/",
          "height": 265
        },
        "id": "sceuhG20F4dx",
        "outputId": "87f5f428-abc8-4fd4-8d20-5c514741a15b"
      },
      "execution_count": 3,
      "outputs": [
        {
          "output_type": "display_data",
          "data": {
            "text/plain": [
              "<Figure size 432x288 with 1 Axes>"
            ],
            "image/png": "[encoded data removed]"
          },
          "metadata": {
            "needs_background": "light"
          }
        }
      ]
    },
    {
      "cell_type": "code",
      "source": [
        "###build the dataset\n",
        "#Let's see if we can use T past values to predict the next value\n",
        "T = 10\n",
        "D = 1\n",
        "X = []\n",
        "Y = []\n",
        "for t in range(len(series)-T):\n",
        "  x = series[t:t+T]\n",
        "  X.append(x)\n",
        "  y = series[t+T]\n",
        "  Y.append(y)\n",
        "X = np.array(X).reshape(-1, T, 1) #The data should be NxTxD\n",
        "Y=np.array(Y)\n",
        "N = len(x)\n",
        "print(\"X.shape\", X.shape, \"Y.shape\", Y.shape)"
      ],
      "metadata": {
        "colab": {
          "base_uri": "https://localhost:8080/"
        },
        "id": "uh53Vjq0G3ow",
        "outputId": "3fd3d627-b48e-4ed8-ddaa-b50156e9798f"
      },
      "execution_count": 4,
      "outputs": [
        {
          "output_type": "stream",
          "name": "stdout",
          "text": [
            "X.shape (190, 10, 1) Y.shape (190,)\n"
          ]
        }
      ]
    },
    {
      "cell_type": "code",
      "source": [
        "#building an RNN\n",
        "#Try an autoregressive RNN model\n",
        "i = Input(shape=(T, 1 ))\n",
        "x = SimpleRNN(5, activation='relu')(i)\n",
        "x = Dense(1)(x)\n",
        "model = Model(i, x)\n",
        "model.compile(loss='mse', optimizer=Adam(lr=0.1))\n",
        "\n",
        "#Train the RNN\n",
        "r = model.fit(X[:-N//2], Y[:-N//2],epochs=80,validation_data=(X[-N//2:], Y[-N//2:]))"
      ],
      "metadata": {
        "colab": {
          "base_uri": "https://localhost:8080/"
        },
        "id": "Ef2BH6LJJYZh",
        "outputId": "901a86ff-0241-4651-cf60-945ae63d39f4"
      },
      "execution_count": 5,
      "outputs": [
        {
          "output_type": "stream",
          "name": "stdout",
          "text": [
            "Epoch 1/80\n"
          ]
        },
        {
          "output_type": "stream",
          "name": "stderr",
          "text": [
            "/usr/local/lib/python3.7/dist-packages/keras/optimizers/optimizer_v2/adam.py:110: UserWarning: The `lr` argument is deprecated, use `learning_rate` instead.\n",
            "  super(Adam, self).__init__(name, **kwargs)\n"
          ]
        },
        {
          "output_type": "stream",
          "name": "stdout",
          "text": [
            "6/6 [==============================] - 2s 56ms/step - loss: 0.3875 - val_loss: 0.1648\n",
            "Epoch 2/80\n",
            "6/6 [==============================] - 0s 9ms/step - loss: 0.0835 - val_loss: 0.0733\n",
            "Epoch 3/80\n",
            "6/6 [==============================] - 0s 8ms/step - loss: 0.0459 - val_loss: 0.0777\n",
            "Epoch 4/80\n",
            "6/6 [==============================] - 0s 10ms/step - loss: 0.0402 - val_loss: 0.0234\n",
            "Epoch 5/80\n",
            "6/6 [==============================] - 0s 9ms/step - loss: 0.0347 - val_loss: 0.0797\n",
            "Epoch 6/80\n",
            "6/6 [==============================] - 0s 9ms/step - loss: 0.0331 - val_loss: 0.0134\n",
            "Epoch 7/80\n",
            "6/6 [==============================] - 0s 10ms/step - loss: 0.0288 - val_loss: 0.0711\n",
            "Epoch 8/80\n",
            "6/6 [==============================] - 0s 9ms/step - loss: 0.0281 - val_loss: 0.0159\n",
            "Epoch 9/80\n",
            "6/6 [==============================] - 0s 8ms/step - loss: 0.0259 - val_loss: 0.0428\n",
            "Epoch 10/80\n",
            "6/6 [==============================] - 0s 9ms/step - loss: 0.0243 - val_loss: 0.0292\n",
            "Epoch 11/80\n",
            "6/6 [==============================] - 0s 9ms/step - loss: 0.0240 - val_loss: 0.0384\n",
            "Epoch 12/80\n",
            "6/6 [==============================] - 0s 8ms/step - loss: 0.0251 - val_loss: 0.0136\n",
            "Epoch 13/80\n",
            "6/6 [==============================] - 0s 9ms/step - loss: 0.0282 - val_loss: 0.0378\n",
            "Epoch 14/80\n",
            "6/6 [==============================] - 0s 9ms/step - loss: 0.0240 - val_loss: 0.0173\n",
            "Epoch 15/80\n",
            "6/6 [==============================] - 0s 8ms/step - loss: 0.0238 - val_loss: 0.0295\n",
            "Epoch 16/80\n",
            "6/6 [==============================] - 0s 8ms/step - loss: 0.0229 - val_loss: 0.0270\n",
            "Epoch 17/80\n",
            "6/6 [==============================] - 0s 8ms/step - loss: 0.0222 - val_loss: 0.0229\n",
            "Epoch 18/80\n",
            "6/6 [==============================] - 0s 8ms/step - loss: 0.0219 - val_loss: 0.0287\n",
            "Epoch 19/80\n",
            "6/6 [==============================] - 0s 12ms/step - loss: 0.0236 - val_loss: 0.0160\n",
            "Epoch 20/80\n",
            "6/6 [==============================] - 0s 8ms/step - loss: 0.0237 - val_loss: 0.0386\n",
            "Epoch 21/80\n",
            "6/6 [==============================] - 0s 9ms/step - loss: 0.0259 - val_loss: 0.0311\n",
            "Epoch 22/80\n",
            "6/6 [==============================] - 0s 8ms/step - loss: 0.0239 - val_loss: 0.0110\n",
            "Epoch 23/80\n",
            "6/6 [==============================] - 0s 8ms/step - loss: 0.0253 - val_loss: 0.0374\n",
            "Epoch 24/80\n",
            "6/6 [==============================] - 0s 15ms/step - loss: 0.0230 - val_loss: 0.0200\n",
            "Epoch 25/80\n",
            "6/6 [==============================] - 0s 8ms/step - loss: 0.0218 - val_loss: 0.0226\n",
            "Epoch 26/80\n",
            "6/6 [==============================] - 0s 8ms/step - loss: 0.0233 - val_loss: 0.0364\n",
            "Epoch 27/80\n",
            "6/6 [==============================] - 0s 13ms/step - loss: 0.0237 - val_loss: 0.0163\n",
            "Epoch 28/80\n",
            "6/6 [==============================] - 0s 13ms/step - loss: 0.0229 - val_loss: 0.0217\n",
            "Epoch 29/80\n",
            "6/6 [==============================] - 0s 14ms/step - loss: 0.0257 - val_loss: 0.0308\n",
            "Epoch 30/80\n",
            "6/6 [==============================] - 0s 12ms/step - loss: 0.0268 - val_loss: 0.0447\n",
            "Epoch 31/80\n",
            "6/6 [==============================] - 0s 8ms/step - loss: 0.0241 - val_loss: 0.0150\n",
            "Epoch 32/80\n",
            "6/6 [==============================] - 0s 9ms/step - loss: 0.0226 - val_loss: 0.0310\n",
            "Epoch 33/80\n",
            "6/6 [==============================] - 0s 8ms/step - loss: 0.0229 - val_loss: 0.0168\n",
            "Epoch 34/80\n",
            "6/6 [==============================] - 0s 9ms/step - loss: 0.0229 - val_loss: 0.0434\n",
            "Epoch 35/80\n",
            "6/6 [==============================] - 0s 8ms/step - loss: 0.0237 - val_loss: 0.0216\n",
            "Epoch 36/80\n",
            "6/6 [==============================] - 0s 9ms/step - loss: 0.0228 - val_loss: 0.0193\n",
            "Epoch 37/80\n",
            "6/6 [==============================] - 0s 8ms/step - loss: 0.0231 - val_loss: 0.0221\n",
            "Epoch 38/80\n",
            "6/6 [==============================] - 0s 9ms/step - loss: 0.0240 - val_loss: 0.0412\n",
            "Epoch 39/80\n",
            "6/6 [==============================] - 0s 9ms/step - loss: 0.0246 - val_loss: 0.0082\n",
            "Epoch 40/80\n",
            "6/6 [==============================] - 0s 9ms/step - loss: 0.0265 - val_loss: 0.0352\n",
            "Epoch 41/80\n",
            "6/6 [==============================] - 0s 13ms/step - loss: 0.0294 - val_loss: 0.0496\n",
            "Epoch 42/80\n",
            "6/6 [==============================] - 0s 9ms/step - loss: 0.0304 - val_loss: 0.0164\n",
            "Epoch 43/80\n",
            "6/6 [==============================] - 0s 8ms/step - loss: 0.0255 - val_loss: 0.0273\n",
            "Epoch 44/80\n",
            "6/6 [==============================] - 0s 8ms/step - loss: 0.0238 - val_loss: 0.0239\n",
            "Epoch 45/80\n",
            "6/6 [==============================] - 0s 8ms/step - loss: 0.0243 - val_loss: 0.0408\n",
            "Epoch 46/80\n",
            "6/6 [==============================] - 0s 8ms/step - loss: 0.0261 - val_loss: 0.0244\n",
            "Epoch 47/80\n",
            "6/6 [==============================] - 0s 9ms/step - loss: 0.0251 - val_loss: 0.0230\n",
            "Epoch 48/80\n",
            "6/6 [==============================] - 0s 10ms/step - loss: 0.0226 - val_loss: 0.0164\n",
            "Epoch 49/80\n",
            "6/6 [==============================] - 0s 8ms/step - loss: 0.0222 - val_loss: 0.0332\n",
            "Epoch 50/80\n",
            "6/6 [==============================] - 0s 8ms/step - loss: 0.0235 - val_loss: 0.0156\n",
            "Epoch 51/80\n",
            "6/6 [==============================] - 0s 8ms/step - loss: 0.0223 - val_loss: 0.0242\n",
            "Epoch 52/80\n",
            "6/6 [==============================] - 0s 8ms/step - loss: 0.0220 - val_loss: 0.0270\n",
            "Epoch 53/80\n",
            "6/6 [==============================] - 0s 8ms/step - loss: 0.0230 - val_loss: 0.0231\n",
            "Epoch 54/80\n",
            "6/6 [==============================] - 0s 8ms/step - loss: 0.0227 - val_loss: 0.0166\n",
            "Epoch 55/80\n",
            "6/6 [==============================] - 0s 9ms/step - loss: 0.0237 - val_loss: 0.0259\n",
            "Epoch 56/80\n",
            "6/6 [==============================] - 0s 8ms/step - loss: 0.0232 - val_loss: 0.0348\n",
            "Epoch 57/80\n",
            "6/6 [==============================] - 0s 9ms/step - loss: 0.0235 - val_loss: 0.0181\n",
            "Epoch 58/80\n",
            "6/6 [==============================] - 0s 9ms/step - loss: 0.0245 - val_loss: 0.0152\n",
            "Epoch 59/80\n",
            "6/6 [==============================] - 0s 7ms/step - loss: 0.0262 - val_loss: 0.0349\n",
            "Epoch 60/80\n",
            "6/6 [==============================] - 0s 10ms/step - loss: 0.0230 - val_loss: 0.0242\n",
            "Epoch 61/80\n",
            "6/6 [==============================] - 0s 8ms/step - loss: 0.0228 - val_loss: 0.0093\n",
            "Epoch 62/80\n",
            "6/6 [==============================] - 0s 9ms/step - loss: 0.0269 - val_loss: 0.0528\n",
            "Epoch 63/80\n",
            "6/6 [==============================] - 0s 8ms/step - loss: 0.0237 - val_loss: 0.0235\n",
            "Epoch 64/80\n",
            "6/6 [==============================] - 0s 9ms/step - loss: 0.0233 - val_loss: 0.0189\n",
            "Epoch 65/80\n",
            "6/6 [==============================] - 0s 8ms/step - loss: 0.0249 - val_loss: 0.0593\n",
            "Epoch 66/80\n",
            "6/6 [==============================] - 0s 8ms/step - loss: 0.0243 - val_loss: 0.0072\n",
            "Epoch 67/80\n",
            "6/6 [==============================] - 0s 8ms/step - loss: 0.0255 - val_loss: 0.0434\n",
            "Epoch 68/80\n",
            "6/6 [==============================] - 0s 8ms/step - loss: 0.0266 - val_loss: 0.0312\n",
            "Epoch 69/80\n",
            "6/6 [==============================] - 0s 9ms/step - loss: 0.0297 - val_loss: 0.0112\n",
            "Epoch 70/80\n",
            "6/6 [==============================] - 0s 9ms/step - loss: 0.0267 - val_loss: 0.0343\n",
            "Epoch 71/80\n",
            "6/6 [==============================] - 0s 8ms/step - loss: 0.0277 - val_loss: 0.0129\n",
            "Epoch 72/80\n",
            "6/6 [==============================] - 0s 8ms/step - loss: 0.0231 - val_loss: 0.0269\n",
            "Epoch 73/80\n",
            "6/6 [==============================] - 0s 8ms/step - loss: 0.0231 - val_loss: 0.0176\n",
            "Epoch 74/80\n",
            "6/6 [==============================] - 0s 21ms/step - loss: 0.0224 - val_loss: 0.0134\n",
            "Epoch 75/80\n",
            "6/6 [==============================] - 0s 20ms/step - loss: 0.0243 - val_loss: 0.0392\n",
            "Epoch 76/80\n",
            "6/6 [==============================] - 0s 12ms/step - loss: 0.0232 - val_loss: 0.0194\n",
            "Epoch 77/80\n",
            "6/6 [==============================] - 0s 13ms/step - loss: 0.0244 - val_loss: 0.0154\n",
            "Epoch 78/80\n",
            "6/6 [==============================] - 0s 14ms/step - loss: 0.0252 - val_loss: 0.0253\n",
            "Epoch 79/80\n",
            "6/6 [==============================] - 0s 13ms/step - loss: 0.0280 - val_loss: 0.0152\n",
            "Epoch 80/80\n",
            "6/6 [==============================] - 0s 13ms/step - loss: 0.0238 - val_loss: 0.0504\n"
          ]
        }
      ]
    },
    {
      "cell_type": "code",
      "source": [
        "#plot loss per iteration\n",
        "import matplotlib.pyplot as plt\n",
        "plt.plot(r.history['loss'], label='loss')\n",
        "plt.plot(r.history['val_loss'], label='val_loss')\n",
        "plt.legend()"
      ],
      "metadata": {
        "colab": {
          "base_uri": "https://localhost:8080/",
          "height": 283
        },
        "id": "3zMPepq71unc",
        "outputId": "e2f9ebff-d1a4-4ba6-c176-c85377a63ace"
      },
      "execution_count": 6,
      "outputs": [
        {
          "output_type": "execute_result",
          "data": {
            "text/plain": [
              "<matplotlib.legend.Legend at 0x7f716b6a0ad0>"
            ]
          },
          "metadata": {},
          "execution_count": 6
        },
        {
          "output_type": "display_data",
          "data": {
            "text/plain": [
              "<Figure size 432x288 with 1 Axes>"
            ],
            "image/png": "[encoded data removed]"
          },
          "metadata": {
            "needs_background": "light"
          }
        }
      ]
    },
    {
      "cell_type": "code",
      "source": [
        "validation_target = Y[-N//2:]\n",
        "validation_predictions= []\n",
        "\n",
        "#index of first validation\n",
        "i=-N//2\n",
        "\n",
        "while len(validation_predictions)<len(validation_target):\n",
        "  p = model.predict(X[i].reshape(1, -1, 1))[0, 0] #1x1 array->scalar\n",
        "  i+=1\n",
        "  #update the predictions lists\n",
        "  validation_predictions.append(p)"
      ],
      "metadata": {
        "colab": {
          "base_uri": "https://localhost:8080/"
        },
        "id": "ILsfcTgz2lce",
        "outputId": "f77b9700-f79f-4f39-8fcc-c302c09a661f"
      },
      "execution_count": 7,
      "outputs": [
        {
          "output_type": "stream",
          "name": "stdout",
          "text": [
            "1/1 [==============================] - 0s 302ms/step\n",
            "1/1 [==============================] - 0s 46ms/step\n",
            "1/1 [==============================] - 0s 26ms/step\n",
            "1/1 [==============================] - 0s 29ms/step\n",
            "1/1 [==============================] - 0s 29ms/step\n"
          ]
        }
      ]
    },
    {
      "cell_type": "code",
      "source": [
        "plt.plot(validation_target, label='forecast target')\n",
        "plt.plot(validation_predictions, label='forecast target')\n",
        "plt.legend()"
      ],
      "metadata": {
        "colab": {
          "base_uri": "https://localhost:8080/",
          "height": 282
        },
        "id": "INdJtDSJ4ION",
        "outputId": "6eafa9ab-314a-4daa-db0d-0b334c99df96"
      },
      "execution_count": 8,
      "outputs": [
        {
          "output_type": "execute_result",
          "data": {
            "text/plain": [
              "<matplotlib.legend.Legend at 0x7f716cde4410>"
            ]
          },
          "metadata": {},
          "execution_count": 8
        },
        {
          "output_type": "display_data",
          "data": {
            "text/plain": [
              "<Figure size 432x288 with 1 Axes>"
            ],
            "image/png": "[encoded data removed]"
          },
          "metadata": {
            "needs_background": "light"
          }
        }
      ]
    },
    {
      "cell_type": "code",
      "source": [
        "validation_target = Y[-N//2:]\n",
        "validation_predictions=[]\n",
        "\n",
        "#last train input\n",
        "last_x = X[-N//2] # 1-D array of length T\n",
        "\n",
        "while len(validation_predictions)<len(validation_target):\n",
        "  p=model.predict(last_x.reshape(1, -1, 1))[0, 0] #1x1 array->scalar\n",
        "\n",
        "  #update the predictions\n",
        "  validation_predictions.append(p)\n",
        "  #make the new input\n",
        "  last_x = np.roll(last_x, -1)\n",
        "  last_x[-1]=p"
      ],
      "metadata": {
        "colab": {
          "base_uri": "https://localhost:8080/"
        },
        "id": "mBlgngQH5z2H",
        "outputId": "e3cbd194-b80d-40a3-b79c-6a87aacbc5c6"
      },
      "execution_count": 9,
      "outputs": [
        {
          "output_type": "stream",
          "name": "stdout",
          "text": [
            "1/1 [==============================] - 0s 19ms/step\n",
            "1/1 [==============================] - 0s 21ms/step\n",
            "1/1 [==============================] - 0s 19ms/step\n",
            "1/1 [==============================] - 0s 19ms/step\n",
            "1/1 [==============================] - 0s 18ms/step\n"
          ]
        }
      ]
    },
    {
      "cell_type": "code",
      "source": [
        "plt.plot(validation_target, label='forecast target')\n",
        "plt.plot(validation_predictions, label='forecast target')\n",
        "plt.legend()"
      ],
      "metadata": {
        "colab": {
          "base_uri": "https://localhost:8080/",
          "height": 282
        },
        "id": "WXHnLS4D77CL",
        "outputId": "592e52a2-a931-4a88-a800-6f0ac9b2f0f4"
      },
      "execution_count": 10,
      "outputs": [
        {
          "output_type": "execute_result",
          "data": {
            "text/plain": [
              "<matplotlib.legend.Legend at 0x7f716cd6c790>"
            ]
          },
          "metadata": {},
          "execution_count": 10
        },
        {
          "output_type": "display_data",
          "data": {
            "text/plain": [
              "<Figure size 432x288 with 1 Axes>"
            ],
            "image/png": "[encoded data removed]"
          },
          "metadata": {
            "needs_background": "light"
          }
        }
      ]
    }
  ]
}