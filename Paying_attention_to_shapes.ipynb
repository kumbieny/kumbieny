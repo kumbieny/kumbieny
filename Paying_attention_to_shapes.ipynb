{
  "nbformat": 4,
  "nbformat_minor": 0,
  "metadata": {
    "colab": {
      "name": "Paying attention to shapes.ipynb",
      "provenance": [],
      "authorship_tag": "ABX9TyOGJADC5E5iFU5Vt0nmU1so",
      "include_colab_link": true
    },
    "kernelspec": {
      "name": "python3",
      "display_name": "Python 3"
    },
    "language_info": {
      "name": "python"
    }
  },
  "cells": [
    {
      "cell_type": "markdown",
      "metadata": {
        "id": "view-in-github",
        "colab_type": "text"
      },
      "source": [
        "<a href=\"https://colab.research.google.com/github/kumbieny/kumbieny/blob/main/Paying_attention_to_shapes.ipynb\" target=\"_parent\"><img src=\"https://colab.research.google.com/assets/colab-badge.svg\" alt=\"Open In Colab\"/></a>"
      ]
    },
    {
      "cell_type": "code",
      "execution_count": 2,
      "metadata": {
        "colab": {
          "base_uri": "https://localhost:8080/"
        },
        "id": "stH3C1Xv52iA",
        "outputId": "e78ba0f8-877b-404d-c76c-aed45f42b70d"
      },
      "outputs": [
        {
          "output_type": "stream",
          "name": "stdout",
          "text": [
            "2.9.0\n"
          ]
        }
      ],
      "source": [
        "#Install Tensorflow\n",
        "!pip install -q tensorflow-gpu==2.9.0\n",
        "import tensorflow as tf\n",
        "print(tf.__version__)"
      ]
    },
    {
      "cell_type": "code",
      "source": [
        "from tensorflow.keras.layers import Input, SimpleRNN, Dense, Flatten\n",
        "from tensorflow.keras.models import Model\n",
        "from tensorflow.keras.optimizers import SGD, Adam\n",
        "\n",
        "import numpy as np\n",
        "import pandas as pd\n",
        "import matplotlib.pyplot as plt\n"
      ],
      "metadata": {
        "id": "jcC6BnEX6CyQ"
      },
      "execution_count": 8,
      "outputs": []
    },
    {
      "cell_type": "code",
      "source": [
        "#N = Number of samples\n",
        "#T = Sequence length\n",
        "#D = number of features\n",
        "#M = number of hidden units\n",
        "#K = number of output units"
      ],
      "metadata": {
        "id": "YHZi-B7xqIFU"
      },
      "execution_count": 4,
      "outputs": []
    },
    {
      "cell_type": "code",
      "source": [
        "#Make some data\n",
        "N=1\n",
        "T=10\n",
        "D=3\n",
        "K=2\n",
        "X=np.random.randn(N,T, D)"
      ],
      "metadata": {
        "id": "eT7cW9nI6bwX"
      },
      "execution_count": 5,
      "outputs": []
    },
    {
      "cell_type": "code",
      "source": [
        "#Make an RNN\n",
        "M=5 #number of hidden units\n",
        "i=Input(shape=(T, D))\n",
        "x=SimpleRNN(M)(i)\n",
        "x=Dense(K)(x)\n",
        "model=Model(i, x)\n"
      ],
      "metadata": {
        "id": "liburJvRrlXh"
      },
      "execution_count": 9,
      "outputs": []
    },
    {
      "cell_type": "code",
      "source": [
        "#Get the output\n",
        "Yhat=model.predict(X)\n",
        "print(Yhat)"
      ],
      "metadata": {
        "colab": {
          "base_uri": "https://localhost:8080/"
        },
        "id": "Fhm5AMT9vhxV",
        "outputId": "0fcdee5e-7824-4478-c620-9e7057e85117"
      },
      "execution_count": 11,
      "outputs": [
        {
          "output_type": "stream",
          "name": "stdout",
          "text": [
            "1/1 [==============================] - 0s 265ms/step\n",
            "[[ 0.97357726 -1.1402866 ]]\n"
          ]
        }
      ]
    },
    {
      "cell_type": "code",
      "source": [
        "model.summary()"
      ],
      "metadata": {
        "colab": {
          "base_uri": "https://localhost:8080/"
        },
        "id": "XSovWPFqwK99",
        "outputId": "bdbb7806-816a-4763-d599-532efb652174"
      },
      "execution_count": 12,
      "outputs": [
        {
          "output_type": "stream",
          "name": "stdout",
          "text": [
            "Model: \"model\"\n",
            "_________________________________________________________________\n",
            " Layer (type)                Output Shape              Param #   \n",
            "=================================================================\n",
            " input_2 (InputLayer)        [(None, 10, 3)]           0         \n",
            "                                                                 \n",
            " simple_rnn (SimpleRNN)      (None, 5)                 45        \n",
            "                                                                 \n",
            " dense (Dense)               (None, 2)                 12        \n",
            "                                                                 \n",
            "=================================================================\n",
            "Total params: 57\n",
            "Trainable params: 57\n",
            "Non-trainable params: 0\n",
            "_________________________________________________________________\n"
          ]
        }
      ]
    },
    {
      "cell_type": "code",
      "source": [
        "model.layers[1].get_weights()"
      ],
      "metadata": {
        "colab": {
          "base_uri": "https://localhost:8080/"
        },
        "id": "sEpdcI1ewZW1",
        "outputId": "b3c45666-0ecd-4b41-bd55-81a6230dacdc"
      },
      "execution_count": 13,
      "outputs": [
        {
          "output_type": "execute_result",
          "data": {
            "text/plain": [
              "[array([[ 0.22473401, -0.2456429 ,  0.86399347, -0.7730215 , -0.05815268],\n",
              "        [ 0.4979064 , -0.64909124,  0.23546642, -0.70404476,  0.55484194],\n",
              "        [-0.65601623,  0.6347149 ,  0.0061059 ,  0.68931454, -0.655556  ]],\n",
              "       dtype=float32),\n",
              " array([[-0.18049788,  0.09651464,  0.6546161 ,  0.71623725,  0.12879129],\n",
              "        [-0.19126011,  0.733939  , -0.4104842 ,  0.14062577,  0.48629233],\n",
              "        [-0.09713903,  0.486547  , -0.06025749,  0.11929272, -0.8578895 ],\n",
              "        [ 0.84601355, -0.00631969, -0.2670672 ,  0.4611116 , -0.01650061],\n",
              "        [-0.45350307, -0.463951  , -0.57273436,  0.49027932, -0.10337326]],\n",
              "       dtype=float32),\n",
              " array([0., 0., 0., 0., 0.], dtype=float32)]"
            ]
          },
          "metadata": {},
          "execution_count": 13
        }
      ]
    },
    {
      "cell_type": "code",
      "source": [
        "#check their shapes\n",
        "#should make sense\n",
        "#first output is input > hidden\n",
        "#second output is hidden > hidden\n",
        "#Third output is bias term(vector of length M)\n",
        "a, b, c = model.layers[1].get_weights()\n",
        "print(a.shape, b.shape, c.shape)"
      ],
      "metadata": {
        "colab": {
          "base_uri": "https://localhost:8080/"
        },
        "id": "LfDBlZASwnZe",
        "outputId": "c35f91a9-eed4-4f5d-eca2-7eae47598505"
      },
      "execution_count": 14,
      "outputs": [
        {
          "output_type": "stream",
          "name": "stdout",
          "text": [
            "(3, 5) (5, 5) (5,)\n"
          ]
        }
      ]
    },
    {
      "cell_type": "code",
      "source": [
        "Wx, Wh, bh = model.layers[1].get_weights()\n",
        "Wo, bo = model.layers[2].get_weights()\n"
      ],
      "metadata": {
        "id": "tSZSlNgmxeTH"
      },
      "execution_count": 15,
      "outputs": []
    },
    {
      "cell_type": "code",
      "source": [
        "h_last = np.zeros(M) #Initial hidden state\n",
        "x=X[0] #the one and only sample\n",
        "Yhats = []\n",
        "\n",
        "for t in range(T):\n",
        "  h = np.tanh(x[t].dot(Wx)+h_last.dot(Wh)+bh)\n",
        "  y = h.dot(Wo)+bo #we only care about the last value on the last iteration\n",
        "  Yhats.append(y)\n",
        "\n",
        "  #importan: assign h to h_last\n",
        "  h_last = h\n",
        "#print the final output\n",
        "print(Yhats[-1])\n",
        "\n",
        "#important: assign h to h_last\n"
      ],
      "metadata": {
        "colab": {
          "base_uri": "https://localhost:8080/"
        },
        "id": "NFzU_ClZx7y0",
        "outputId": "ce350088-9eb7-41ad-f132-14cd4873bd5e"
      },
      "execution_count": 16,
      "outputs": [
        {
          "output_type": "stream",
          "name": "stdout",
          "text": [
            "[ 0.97357729 -1.14028664]\n"
          ]
        }
      ]
    }
  ]
}