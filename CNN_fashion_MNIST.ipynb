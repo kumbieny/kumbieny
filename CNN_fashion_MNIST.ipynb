{
  "nbformat": 4,
  "nbformat_minor": 0,
  "metadata": {
    "colab": {
      "name": "CNN fashion MNIST.ipynb",
      "provenance": [],
      "authorship_tag": "ABX9TyNPdxWbUJdIOWCtdL8Rf1TC",
      "include_colab_link": true
    },
    "kernelspec": {
      "name": "python3",
      "display_name": "Python 3"
    },
    "language_info": {
      "name": "python"
    }
  },
  "cells": [
    {
      "cell_type": "markdown",
      "metadata": {
        "id": "view-in-github",
        "colab_type": "text"
      },
      "source": [
        "<a href=\"https://colab.research.google.com/github/kumbieny/kumbieny/blob/main/CNN_fashion_MNIST.ipynb\" target=\"_parent\"><img src=\"https://colab.research.google.com/assets/colab-badge.svg\" alt=\"Open In Colab\"/></a>"
      ]
    },
    {
      "cell_type": "code",
      "execution_count": 20,
      "metadata": {
        "colab": {
          "base_uri": "https://localhost:8080/"
        },
        "id": "41Inob9Ig6TG",
        "outputId": "f18f8b9b-de84-42a1-86b8-bd852117cfb7"
      },
      "outputs": [
        {
          "output_type": "stream",
          "name": "stdout",
          "text": [
            "2.9.0\n"
          ]
        }
      ],
      "source": [
        "#install tensorflow\n",
        "!pip install -q tensorflow-gpu==2.9.1\n",
        "import tensorflow as tf\n",
        "print(tf.__version__)"
      ]
    },
    {
      "cell_type": "code",
      "source": [
        "import numpy as np\n",
        "import matplotlib.pyplot as plt\n",
        "from tensorflow.keras.layers import Input, Conv2D, Dense, Flatten, Dropout\n",
        "from tensorflow.keras.models import Model"
      ],
      "metadata": {
        "id": "xRdKcrZxvSI7"
      },
      "execution_count": 21,
      "outputs": []
    },
    {
      "cell_type": "code",
      "source": [
        "# Load in the data\n",
        "fashion_mnist = tf.keras.datasets.fashion_mnist\n",
        "(x_train, y_train), (x_test, y_test) = fashion_mnist.load_data()\n",
        "x_train, x_test = x_train/255.0, x_test/255.0\n",
        "print(\"x_train.shape:\", x_train.shape)"
      ],
      "metadata": {
        "colab": {
          "base_uri": "https://localhost:8080/"
        },
        "id": "eTlOfg_QxiVt",
        "outputId": "37a243d4-5950-4597-b4f1-87f33b95c62a"
      },
      "execution_count": 22,
      "outputs": [
        {
          "output_type": "stream",
          "name": "stdout",
          "text": [
            "x_train.shape: (60000, 28, 28)\n"
          ]
        }
      ]
    },
    {
      "cell_type": "code",
      "source": [
        "# data is only 2D\n",
        "# convolution expects height x width x color\n",
        "x_train = np.expand_dims(x_train, -1)\n",
        "x_test = np.expand_dims(x_test, -1)\n",
        "print(x_train.shape)"
      ],
      "metadata": {
        "colab": {
          "base_uri": "https://localhost:8080/"
        },
        "id": "yKD3Gb1m0dPa",
        "outputId": "dc096276-b5cd-408a-8f7b-f6add656bcf4"
      },
      "execution_count": 23,
      "outputs": [
        {
          "output_type": "stream",
          "name": "stdout",
          "text": [
            "(60000, 28, 28, 1)\n"
          ]
        }
      ]
    },
    {
      "cell_type": "code",
      "source": [
        "#number of classes\n",
        "K = len(set(y_train))\n",
        "print(\"number of classes:\", K)"
      ],
      "metadata": {
        "colab": {
          "base_uri": "https://localhost:8080/"
        },
        "id": "N1hf1P952ZZG",
        "outputId": "4b2e9ac7-0c6a-4189-a547-414373c726ff"
      },
      "execution_count": 24,
      "outputs": [
        {
          "output_type": "stream",
          "name": "stdout",
          "text": [
            "number of classes: 10\n"
          ]
        }
      ]
    },
    {
      "cell_type": "code",
      "source": [
        "# building the CNN model using function API\n",
        "i = Input(shape=x_train[0].shape)\n",
        "x = Conv2D(32, (3,3), strides=2, activation='relu')(i)\n",
        "x = Conv2D(64, (3, 3), strides=2, activation='relu')(x)\n",
        "x = Conv2D(128, (3, 3), strides=2, activation='relu')(x)\n",
        "x = Flatten()(x)\n",
        "x = Dropout(0.2)(x)\n",
        "x = Dense(512, activation='relu')(x)\n",
        "x = Dropout(0.2)(x)\n",
        "x = Dense(K, activation='softmax')(x)\n",
        "model = Model(i, x)"
      ],
      "metadata": {
        "id": "myLrevd224Dq"
      },
      "execution_count": 25,
      "outputs": []
    },
    {
      "cell_type": "code",
      "source": [
        "#compile and fit\n",
        "#Nb: Make sure you are using the GPU for this\n",
        "model.compile(optimizer='adam',\n",
        "              loss='sparse_categorical_crossentropy',\n",
        "              metrics=['accuracy'])\n",
        "r = model.fit(x_train, y_train, validation_data=(x_test, y_test), epochs=15)"
      ],
      "metadata": {
        "colab": {
          "base_uri": "https://localhost:8080/"
        },
        "id": "4h2NUXhg51pf",
        "outputId": "bcb911c3-7680-45da-df8c-f4a5810e1354"
      },
      "execution_count": 26,
      "outputs": [
        {
          "output_type": "stream",
          "name": "stdout",
          "text": [
            "Epoch 1/15\n",
            "1875/1875 [==============================] - 46s 24ms/step - loss: 0.5201 - accuracy: 0.8087 - val_loss: 0.3992 - val_accuracy: 0.8505\n",
            "Epoch 2/15\n",
            "1875/1875 [==============================] - 39s 21ms/step - loss: 0.3624 - accuracy: 0.8639 - val_loss: 0.3608 - val_accuracy: 0.8683\n",
            "Epoch 3/15\n",
            "1875/1875 [==============================] - 40s 22ms/step - loss: 0.3149 - accuracy: 0.8813 - val_loss: 0.3270 - val_accuracy: 0.8819\n",
            "Epoch 4/15\n",
            "1875/1875 [==============================] - 40s 21ms/step - loss: 0.2794 - accuracy: 0.8954 - val_loss: 0.3103 - val_accuracy: 0.8879\n",
            "Epoch 5/15\n",
            "1875/1875 [==============================] - 39s 21ms/step - loss: 0.2535 - accuracy: 0.9044 - val_loss: 0.3048 - val_accuracy: 0.8912\n",
            "Epoch 6/15\n",
            "1875/1875 [==============================] - 39s 21ms/step - loss: 0.2340 - accuracy: 0.9110 - val_loss: 0.2992 - val_accuracy: 0.8913\n",
            "Epoch 7/15\n",
            "1875/1875 [==============================] - 38s 20ms/step - loss: 0.2128 - accuracy: 0.9190 - val_loss: 0.3028 - val_accuracy: 0.8961\n",
            "Epoch 8/15\n",
            "1875/1875 [==============================] - 40s 21ms/step - loss: 0.1964 - accuracy: 0.9234 - val_loss: 0.2959 - val_accuracy: 0.8975\n",
            "Epoch 9/15\n",
            "1875/1875 [==============================] - 38s 20ms/step - loss: 0.1836 - accuracy: 0.9301 - val_loss: 0.3076 - val_accuracy: 0.9007\n",
            "Epoch 10/15\n",
            "1875/1875 [==============================] - 49s 26ms/step - loss: 0.1684 - accuracy: 0.9349 - val_loss: 0.3210 - val_accuracy: 0.8977\n",
            "Epoch 11/15\n",
            "1875/1875 [==============================] - 39s 21ms/step - loss: 0.1585 - accuracy: 0.9387 - val_loss: 0.3301 - val_accuracy: 0.8992\n",
            "Epoch 12/15\n",
            "1875/1875 [==============================] - 39s 21ms/step - loss: 0.1490 - accuracy: 0.9433 - val_loss: 0.3461 - val_accuracy: 0.9003\n",
            "Epoch 13/15\n",
            "1875/1875 [==============================] - 37s 20ms/step - loss: 0.1402 - accuracy: 0.9462 - val_loss: 0.3533 - val_accuracy: 0.8959\n",
            "Epoch 14/15\n",
            "1875/1875 [==============================] - 38s 20ms/step - loss: 0.1311 - accuracy: 0.9506 - val_loss: 0.3439 - val_accuracy: 0.8976\n",
            "Epoch 15/15\n",
            "1875/1875 [==============================] - 38s 20ms/step - loss: 0.1276 - accuracy: 0.9517 - val_loss: 0.3610 - val_accuracy: 0.9020\n"
          ]
        }
      ]
    },
    {
      "cell_type": "code",
      "source": [
        "#plot loss per iteration\n",
        "import matplotlib.pyplot as plt\n",
        "plt.plot(r.history['loss'], label='loss')\n",
        "plt.plot(r.history['val_loss'], label='val_loss')\n",
        "plt.legend()"
      ],
      "metadata": {
        "colab": {
          "base_uri": "https://localhost:8080/",
          "height": 282
        },
        "id": "bg1GE6Vt9dH2",
        "outputId": "fcda0fff-fc4d-438e-e9e7-14d050f8f37b"
      },
      "execution_count": 28,
      "outputs": [
        {
          "output_type": "execute_result",
          "data": {
            "text/plain": [
              "<matplotlib.legend.Legend at 0x7f9ac0c98050>"
            ]
          },
          "metadata": {},
          "execution_count": 28
        },
        {
          "output_type": "display_data",
          "data": {
            "text/plain": [
              "<Figure size 432x288 with 1 Axes>"
            ],
            "image/png": "[encoded data removed]"
          },
          "metadata": {
            "needs_background": "light"
          }
        }
      ]
    },
    {
      "cell_type": "code",
      "source": [
        "# Plot the accuracy\n",
        "plt.plot(r.history['accuracy'], label='acc')\n",
        "plt.plot(r.history['val_accuracy'], label='val_acc')\n",
        "plt.legend()"
      ],
      "metadata": {
        "colab": {
          "base_uri": "https://localhost:8080/",
          "height": 282
        },
        "id": "uZgVoUqpEcdu",
        "outputId": "8c349b3a-2188-45ba-e466-9302ba50e3d6"
      },
      "execution_count": 29,
      "outputs": [
        {
          "output_type": "execute_result",
          "data": {
            "text/plain": [
              "<matplotlib.legend.Legend at 0x7f9b40e83b50>"
            ]
          },
          "metadata": {},
          "execution_count": 29
        },
        {
          "output_type": "display_data",
          "data": {
            "text/plain": [
              "<Figure size 432x288 with 1 Axes>"
            ],
            "image/png": "[encoded data removed]"
          },
          "metadata": {
            "needs_background": "light"
          }
        }
      ]
    },
    {
      "cell_type": "code",
      "source": [
        "#plot confusion matrix\n",
        "from sklearn.metrics import confusion_matrix\n",
        "import itertools\n",
        "\n",
        "def plot_confusion_matrix(cm, classes,\n",
        "                          normalize=False,\n",
        "                          title='confusion_matrix',\n",
        "                          cmap=plt.cm.Blues):\n",
        "  if normalize:\n",
        "    cm=cm.astype('float') / cm.sum(axis=1)[:, np.newaxis]\n",
        "    print(\"Normalized confusion matrix\")\n",
        "  else:\n",
        "    print('Confusion matrix, without normalization')\n",
        "  print(cm)\n",
        "  plt.imshow(cm, interpolation='nearest', cmap=cmap)\n",
        "  plt.title(title)\n",
        "  plt.colorbar()\n",
        "  tick_marks = np.arange(len(classes))\n",
        "  plt.xticks(tick_marks, classes, rotation=45)\n",
        "  plt.yticks(tick_marks, classes)\n",
        "\n",
        "  fmt= '.2f' if normalize else 'd'\n",
        "  thresh = cm.max() / 2\n",
        "  for i, j in itertools.product(range(cm.shape[0]), range(cm.shape[1])):\n",
        "      plt.text(j, i, format(cm[i, j], fmt),\n",
        "               horizontalalignment = \"center\",\n",
        "               color=\"white\" if cm[i, j]> thresh else \"black\")\n",
        "  plt.tight_layout()\n",
        "  plt.ylabel('True label')\n",
        "  plt.xlabel('Predicted label')\n",
        "  plt.show()\n",
        "\n",
        "p_test = model.predict(x_test).argmax(axis=1)\n",
        "cm = confusion_matrix(y_test, p_test)\n",
        "plot_confusion_matrix(cm, list(range(10)))\n"
      ],
      "metadata": {
        "colab": {
          "base_uri": "https://localhost:8080/",
          "height": 519
        },
        "id": "q7msKh6fFYM5",
        "outputId": "27a2c4e6-299f-4e69-bd26-de6121924a44"
      },
      "execution_count": 33,
      "outputs": [
        {
          "output_type": "stream",
          "name": "stdout",
          "text": [
            "313/313 [==============================] - 2s 7ms/step\n",
            "Confusion matrix, without normalization\n",
            "[[862   0  21  21   1   2  88   0   5   0]\n",
            " [  4 974   1  16   2   0   3   0   0   0]\n",
            " [ 20   0 862   9  46   1  61   0   1   0]\n",
            " [ 15   2  14 935  12   0  22   0   0   0]\n",
            " [  3   1  58  42 824   0  72   0   0   0]\n",
            " [  1   0   1   0   0 974   0  13   1  10]\n",
            " [109   1  68  24  88   0 702   0   8   0]\n",
            " [  0   0   0   0   0  12   0 953   0  35]\n",
            " [  2   0   6   4   3   2   6   1 975   1]\n",
            " [  1   0   0   0   0  10   0  29   1 959]]\n"
          ]
        },
        {
          "output_type": "display_data",
          "data": {
            "text/plain": [
              "<Figure size 432x288 with 2 Axes>"
            ],
            "image/png": "[encoded data removed]"
          },
          "metadata": {
            "needs_background": "light"
          }
        }
      ]
    },
    {
      "cell_type": "code",
      "source": [
        "#label mapping\n",
        "labels = '''T-shirt/top\n",
        "Trouser\n",
        "Pullover\n",
        "Dress\n",
        "Coat\n",
        "Sandal\n",
        "Shirt\n",
        "Sneaker\n",
        "Bag\n",
        "Ankle boot'''.split()"
      ],
      "metadata": {
        "id": "k6SwR4ardglQ"
      },
      "execution_count": 35,
      "outputs": []
    },
    {
      "cell_type": "code",
      "source": [
        "#show some misclassified examples\n",
        "misclassified_idx = np.where(p_test !=y_test)[0]\n",
        "i=np.random.choice(misclassified_idx)\n",
        "plt.imshow(x_test[i].reshape(28,28), cmap='gray')\n",
        "plt.title(\"True label: %s Predicted: %s\" % (labels[y_test[i]], labels[p_test[i]]));"
      ],
      "metadata": {
        "colab": {
          "base_uri": "https://localhost:8080/",
          "height": 281
        },
        "id": "Qq9OH-LZZHmp",
        "outputId": "a4ad26b1-53a7-4933-d8fb-a38d93ef2646"
      },
      "execution_count": 36,
      "outputs": [
        {
          "output_type": "display_data",
          "data": {
            "text/plain": [
              "<Figure size 432x288 with 1 Axes>"
            ],
            "image/png": "[encoded data removed]"
          },
          "metadata": {
            "needs_background": "light"
          }
        }
      ]
    }
  ]
}