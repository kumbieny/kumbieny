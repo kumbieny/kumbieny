{
  "nbformat": 4,
  "nbformat_minor": 0,
  "metadata": {
    "colab": {
      "name": "Linear classification theory in Tensorflow_prediction_saving_loadingData.ipynb",
      "provenance": [],
      "toc_visible": true,
      "authorship_tag": "ABX9TyNReFGu8DcIP6z7YL+9ShRJ",
      "include_colab_link": true
    },
    "kernelspec": {
      "name": "python3",
      "display_name": "Python 3"
    },
    "language_info": {
      "name": "python"
    }
  },
  "cells": [
    {
      "cell_type": "markdown",
      "metadata": {
        "id": "view-in-github",
        "colab_type": "text"
      },
      "source": [
        "<a href=\"https://colab.research.google.com/github/kumbieny/kumbieny/blob/main/Linear_classification_theory_in_Tensorflow_prediction_saving_loadingData.ipynb\" target=\"_parent\"><img src=\"https://colab.research.google.com/assets/colab-badge.svg\" alt=\"Open In Colab\"/></a>"
      ]
    },
    {
      "cell_type": "code",
      "execution_count": 1,
      "metadata": {
        "colab": {
          "base_uri": "https://localhost:8080/"
        },
        "id": "ECk8GxvUEIUO",
        "outputId": "5966a92f-7d15-4a38-fe01-4520ebdbc29e"
      },
      "outputs": [
        {
          "output_type": "stream",
          "name": "stdout",
          "text": [
            "\u001b[K     |████████████████████████████████| 511.7 MB 5.9 kB/s \n",
            "\u001b[K     |████████████████████████████████| 1.6 MB 57.5 MB/s \n",
            "\u001b[K     |████████████████████████████████| 5.8 MB 39.1 MB/s \n",
            "\u001b[K     |████████████████████████████████| 438 kB 51.3 MB/s \n",
            "\u001b[?25h2.9.1\n"
          ]
        }
      ],
      "source": [
        "!pip install -q tensorflow==2.9.1\n",
        "import tensorflow as tf\n",
        "print(tf.__version__)"
      ]
    },
    {
      "cell_type": "code",
      "source": [
        "#load in the data\n",
        "from sklearn.datasets import load_breast_cancer"
      ],
      "metadata": {
        "id": "3NH5qawmFW0_"
      },
      "execution_count": 2,
      "outputs": []
    },
    {
      "cell_type": "code",
      "source": [
        "#load the data\n",
        "data = load_breast_cancer()"
      ],
      "metadata": {
        "id": "qepak2qZF7P4"
      },
      "execution_count": 3,
      "outputs": []
    },
    {
      "cell_type": "code",
      "source": [
        "type(data)"
      ],
      "metadata": {
        "colab": {
          "base_uri": "https://localhost:8080/"
        },
        "id": "wf9gIv0qGMXr",
        "outputId": "92fede3c-0643-4231-da56-d9f03bbef906"
      },
      "execution_count": 4,
      "outputs": [
        {
          "output_type": "execute_result",
          "data": {
            "text/plain": [
              "sklearn.utils.Bunch"
            ]
          },
          "metadata": {},
          "execution_count": 4
        }
      ]
    },
    {
      "cell_type": "code",
      "source": [
        "#note: it is a bunch object\n",
        "#this basically acts like a dictionary where you can treat the keys like attributes\n",
        "data.keys()"
      ],
      "metadata": {
        "colab": {
          "base_uri": "https://localhost:8080/"
        },
        "id": "BXFa-tJLGtyH",
        "outputId": "0f6127a7-b4cc-4574-b166-3a0c3fea25b1"
      },
      "execution_count": 5,
      "outputs": [
        {
          "output_type": "execute_result",
          "data": {
            "text/plain": [
              "dict_keys(['data', 'target', 'frame', 'target_names', 'DESCR', 'feature_names', 'filename', 'data_module'])"
            ]
          },
          "metadata": {},
          "execution_count": 5
        }
      ]
    },
    {
      "cell_type": "code",
      "source": [
        "#'data' (the attribute) means the input data\n",
        "data.data.shape"
      ],
      "metadata": {
        "colab": {
          "base_uri": "https://localhost:8080/"
        },
        "id": "au5i7SdFHf_a",
        "outputId": "067a5b6e-12b4-49d3-8f41-ca6d1e7a3cd0"
      },
      "execution_count": 6,
      "outputs": [
        {
          "output_type": "execute_result",
          "data": {
            "text/plain": [
              "(569, 30)"
            ]
          },
          "metadata": {},
          "execution_count": 6
        }
      ]
    },
    {
      "cell_type": "code",
      "source": [
        "data.target\n"
      ],
      "metadata": {
        "colab": {
          "base_uri": "https://localhost:8080/"
        },
        "id": "REIJYLriIIRn",
        "outputId": "f7d23b89-8b4a-4b1a-ebec-5097301d01eb"
      },
      "execution_count": 7,
      "outputs": [
        {
          "output_type": "execute_result",
          "data": {
            "text/plain": [
              "array([0, 0, 0, 0, 0, 0, 0, 0, 0, 0, 0, 0, 0, 0, 0, 0, 0, 0, 0, 1, 1, 1,\n",
              "       0, 0, 0, 0, 0, 0, 0, 0, 0, 0, 0, 0, 0, 0, 0, 1, 0, 0, 0, 0, 0, 0,\n",
              "       0, 0, 1, 0, 1, 1, 1, 1, 1, 0, 0, 1, 0, 0, 1, 1, 1, 1, 0, 1, 0, 0,\n",
              "       1, 1, 1, 1, 0, 1, 0, 0, 1, 0, 1, 0, 0, 1, 1, 1, 0, 0, 1, 0, 0, 0,\n",
              "       1, 1, 1, 0, 1, 1, 0, 0, 1, 1, 1, 0, 0, 1, 1, 1, 1, 0, 1, 1, 0, 1,\n",
              "       1, 1, 1, 1, 1, 1, 1, 0, 0, 0, 1, 0, 0, 1, 1, 1, 0, 0, 1, 0, 1, 0,\n",
              "       0, 1, 0, 0, 1, 1, 0, 1, 1, 0, 1, 1, 1, 1, 0, 1, 1, 1, 1, 1, 1, 1,\n",
              "       1, 1, 0, 1, 1, 1, 1, 0, 0, 1, 0, 1, 1, 0, 0, 1, 1, 0, 0, 1, 1, 1,\n",
              "       1, 0, 1, 1, 0, 0, 0, 1, 0, 1, 0, 1, 1, 1, 0, 1, 1, 0, 0, 1, 0, 0,\n",
              "       0, 0, 1, 0, 0, 0, 1, 0, 1, 0, 1, 1, 0, 1, 0, 0, 0, 0, 1, 1, 0, 0,\n",
              "       1, 1, 1, 0, 1, 1, 1, 1, 1, 0, 0, 1, 1, 0, 1, 1, 0, 0, 1, 0, 1, 1,\n",
              "       1, 1, 0, 1, 1, 1, 1, 1, 0, 1, 0, 0, 0, 0, 0, 0, 0, 0, 0, 0, 0, 0,\n",
              "       0, 0, 1, 1, 1, 1, 1, 1, 0, 1, 0, 1, 1, 0, 1, 1, 0, 1, 0, 0, 1, 1,\n",
              "       1, 1, 1, 1, 1, 1, 1, 1, 1, 1, 1, 0, 1, 1, 0, 1, 0, 1, 1, 1, 1, 1,\n",
              "       1, 1, 1, 1, 1, 1, 1, 1, 1, 0, 1, 1, 1, 0, 1, 0, 1, 1, 1, 1, 0, 0,\n",
              "       0, 1, 1, 1, 1, 0, 1, 0, 1, 0, 1, 1, 1, 0, 1, 1, 1, 1, 1, 1, 1, 0,\n",
              "       0, 0, 1, 1, 1, 1, 1, 1, 1, 1, 1, 1, 1, 0, 0, 1, 0, 0, 0, 1, 0, 0,\n",
              "       1, 1, 1, 1, 1, 0, 1, 1, 1, 1, 1, 0, 1, 1, 1, 0, 1, 1, 0, 0, 1, 1,\n",
              "       1, 1, 1, 1, 0, 1, 1, 1, 1, 1, 1, 1, 0, 1, 1, 1, 1, 1, 0, 1, 1, 0,\n",
              "       1, 1, 1, 1, 1, 1, 1, 1, 1, 1, 1, 1, 0, 1, 0, 0, 1, 0, 1, 1, 1, 1,\n",
              "       1, 0, 1, 1, 0, 1, 0, 1, 1, 0, 1, 0, 1, 1, 1, 1, 1, 1, 1, 1, 0, 0,\n",
              "       1, 1, 1, 1, 1, 1, 0, 1, 1, 1, 1, 1, 1, 1, 1, 1, 1, 0, 1, 1, 1, 1,\n",
              "       1, 1, 1, 0, 1, 0, 1, 1, 0, 1, 1, 1, 1, 1, 0, 0, 1, 0, 1, 0, 1, 1,\n",
              "       1, 1, 1, 0, 1, 1, 0, 1, 0, 1, 0, 0, 1, 1, 1, 0, 1, 1, 1, 1, 1, 1,\n",
              "       1, 1, 1, 1, 1, 0, 1, 0, 0, 1, 1, 1, 1, 1, 1, 1, 1, 1, 1, 1, 1, 1,\n",
              "       1, 1, 1, 1, 1, 1, 1, 1, 1, 1, 1, 1, 0, 0, 0, 0, 0, 0, 1])"
            ]
          },
          "metadata": {},
          "execution_count": 7
        }
      ]
    },
    {
      "cell_type": "code",
      "source": [
        "data.target_names\n",
        "#their meaning is not lost"
      ],
      "metadata": {
        "colab": {
          "base_uri": "https://localhost:8080/"
        },
        "id": "-iRTCTiQIWYr",
        "outputId": "aea26267-c412-4c63-fe62-b5997ecea68a"
      },
      "execution_count": 8,
      "outputs": [
        {
          "output_type": "execute_result",
          "data": {
            "text/plain": [
              "array(['malignant', 'benign'], dtype='<U9')"
            ]
          },
          "metadata": {},
          "execution_count": 8
        }
      ]
    },
    {
      "cell_type": "code",
      "source": [
        "#there are also 569 corresponding targets\n",
        "data.target.shape"
      ],
      "metadata": {
        "colab": {
          "base_uri": "https://localhost:8080/"
        },
        "id": "wjZ-hUZgJQVC",
        "outputId": "54d32476-c4a7-4fcd-cde8-a6260b62d06d"
      },
      "execution_count": 9,
      "outputs": [
        {
          "output_type": "execute_result",
          "data": {
            "text/plain": [
              "(569,)"
            ]
          },
          "metadata": {},
          "execution_count": 9
        }
      ]
    },
    {
      "cell_type": "code",
      "source": [
        "data.feature_names\n",
        "#determining the meaning of each feature"
      ],
      "metadata": {
        "colab": {
          "base_uri": "https://localhost:8080/"
        },
        "id": "8vjYnnpxJyCL",
        "outputId": "b6ff8c4a-2070-44a0-e9b2-3462e1ab0a4c"
      },
      "execution_count": 10,
      "outputs": [
        {
          "output_type": "execute_result",
          "data": {
            "text/plain": [
              "array(['mean radius', 'mean texture', 'mean perimeter', 'mean area',\n",
              "       'mean smoothness', 'mean compactness', 'mean concavity',\n",
              "       'mean concave points', 'mean symmetry', 'mean fractal dimension',\n",
              "       'radius error', 'texture error', 'perimeter error', 'area error',\n",
              "       'smoothness error', 'compactness error', 'concavity error',\n",
              "       'concave points error', 'symmetry error',\n",
              "       'fractal dimension error', 'worst radius', 'worst texture',\n",
              "       'worst perimeter', 'worst area', 'worst smoothness',\n",
              "       'worst compactness', 'worst concavity', 'worst concave points',\n",
              "       'worst symmetry', 'worst fractal dimension'], dtype='<U23')"
            ]
          },
          "metadata": {},
          "execution_count": 10
        }
      ]
    },
    {
      "cell_type": "code",
      "source": [
        "from sklearn.model_selection import train_test_split\n",
        "x_train, x_test, y_train, y_test = train_test_split(data.data, data.target, test_size=0.33)\n",
        "N,D = x_train.shape"
      ],
      "metadata": {
        "id": "Eio8eQzMKn_G"
      },
      "execution_count": 11,
      "outputs": []
    },
    {
      "cell_type": "code",
      "source": [
        "from sklearn.preprocessing import StandardScaler\n",
        "scaler = StandardScaler()\n",
        "x_train = scaler.fit_transform(x_train)\n",
        "x_test = scaler.transform(x_test)"
      ],
      "metadata": {
        "id": "j7eLUzdeNIQd"
      },
      "execution_count": 12,
      "outputs": []
    },
    {
      "cell_type": "code",
      "source": [
        "#Now all the fun begins with Tensorflow stuff\n",
        "#Build the model\n",
        "model = tf.keras.models.Sequential([\n",
        "  tf.keras.layers.Input(shape=(D,)),\n",
        "  tf.keras.layers.Dense(1, activation='sigmoid')\n",
        "  ])\n",
        "\n",
        "model.compile(optimizer='adam',\n",
        "              loss='binary_crossentropy',\n",
        "              metrics=['accuracy'])\n",
        "#Train the model\n",
        "r=model.fit(x_train, y_train, validation_data=(x_test, y_test), epochs=100)\n",
        "#Evaluate the model - evaluate() returns loss and accuracy\n",
        "\n",
        "print(\"Train score:\", model.evaluate(x_train, y_train))\n",
        "print(\"Train score:\", model.evaluate(x_test, y_test))"
      ],
      "metadata": {
        "colab": {
          "base_uri": "https://localhost:8080/"
        },
        "id": "03eoawVTQOZW",
        "outputId": "6c292df8-32d6-4660-a1b3-ac4cb894d950"
      },
      "execution_count": 13,
      "outputs": [
        {
          "output_type": "stream",
          "name": "stdout",
          "text": [
            "Epoch 1/100\n",
            "12/12 [==============================] - 1s 21ms/step - loss: 0.5872 - accuracy: 0.7087 - val_loss: 0.4953 - val_accuracy: 0.7447\n",
            "Epoch 2/100\n",
            "12/12 [==============================] - 0s 6ms/step - loss: 0.5299 - accuracy: 0.7480 - val_loss: 0.4482 - val_accuracy: 0.7819\n",
            "Epoch 3/100\n",
            "12/12 [==============================] - 0s 4ms/step - loss: 0.4830 - accuracy: 0.7900 - val_loss: 0.4073 - val_accuracy: 0.8298\n",
            "Epoch 4/100\n",
            "12/12 [==============================] - 0s 4ms/step - loss: 0.4427 - accuracy: 0.8373 - val_loss: 0.3735 - val_accuracy: 0.8670\n",
            "Epoch 5/100\n",
            "12/12 [==============================] - 0s 4ms/step - loss: 0.4079 - accuracy: 0.8583 - val_loss: 0.3460 - val_accuracy: 0.8830\n",
            "Epoch 6/100\n",
            "12/12 [==============================] - 0s 4ms/step - loss: 0.3790 - accuracy: 0.8714 - val_loss: 0.3231 - val_accuracy: 0.8936\n",
            "Epoch 7/100\n",
            "12/12 [==============================] - 0s 5ms/step - loss: 0.3546 - accuracy: 0.8819 - val_loss: 0.3038 - val_accuracy: 0.9043\n",
            "Epoch 8/100\n",
            "12/12 [==============================] - 0s 9ms/step - loss: 0.3336 - accuracy: 0.8950 - val_loss: 0.2875 - val_accuracy: 0.9149\n",
            "Epoch 9/100\n",
            "12/12 [==============================] - 0s 8ms/step - loss: 0.3161 - accuracy: 0.8976 - val_loss: 0.2730 - val_accuracy: 0.9149\n",
            "Epoch 10/100\n",
            "12/12 [==============================] - 0s 8ms/step - loss: 0.3004 - accuracy: 0.9029 - val_loss: 0.2607 - val_accuracy: 0.9149\n",
            "Epoch 11/100\n",
            "12/12 [==============================] - 0s 7ms/step - loss: 0.2867 - accuracy: 0.9029 - val_loss: 0.2501 - val_accuracy: 0.9309\n",
            "Epoch 12/100\n",
            "12/12 [==============================] - 0s 5ms/step - loss: 0.2754 - accuracy: 0.9081 - val_loss: 0.2403 - val_accuracy: 0.9415\n",
            "Epoch 13/100\n",
            "12/12 [==============================] - 0s 6ms/step - loss: 0.2644 - accuracy: 0.9081 - val_loss: 0.2318 - val_accuracy: 0.9415\n",
            "Epoch 14/100\n",
            "12/12 [==============================] - 0s 5ms/step - loss: 0.2548 - accuracy: 0.9134 - val_loss: 0.2243 - val_accuracy: 0.9415\n",
            "Epoch 15/100\n",
            "12/12 [==============================] - 0s 5ms/step - loss: 0.2459 - accuracy: 0.9186 - val_loss: 0.2176 - val_accuracy: 0.9415\n",
            "Epoch 16/100\n",
            "12/12 [==============================] - 0s 4ms/step - loss: 0.2381 - accuracy: 0.9239 - val_loss: 0.2112 - val_accuracy: 0.9415\n",
            "Epoch 17/100\n",
            "12/12 [==============================] - 0s 4ms/step - loss: 0.2308 - accuracy: 0.9239 - val_loss: 0.2055 - val_accuracy: 0.9415\n",
            "Epoch 18/100\n",
            "12/12 [==============================] - 0s 4ms/step - loss: 0.2239 - accuracy: 0.9239 - val_loss: 0.2003 - val_accuracy: 0.9415\n",
            "Epoch 19/100\n",
            "12/12 [==============================] - 0s 4ms/step - loss: 0.2177 - accuracy: 0.9265 - val_loss: 0.1954 - val_accuracy: 0.9415\n",
            "Epoch 20/100\n",
            "12/12 [==============================] - 0s 4ms/step - loss: 0.2117 - accuracy: 0.9291 - val_loss: 0.1910 - val_accuracy: 0.9415\n",
            "Epoch 21/100\n",
            "12/12 [==============================] - 0s 6ms/step - loss: 0.2061 - accuracy: 0.9318 - val_loss: 0.1869 - val_accuracy: 0.9468\n",
            "Epoch 22/100\n",
            "12/12 [==============================] - 0s 4ms/step - loss: 0.2010 - accuracy: 0.9318 - val_loss: 0.1829 - val_accuracy: 0.9468\n",
            "Epoch 23/100\n",
            "12/12 [==============================] - 0s 6ms/step - loss: 0.1963 - accuracy: 0.9344 - val_loss: 0.1793 - val_accuracy: 0.9468\n",
            "Epoch 24/100\n",
            "12/12 [==============================] - 0s 4ms/step - loss: 0.1914 - accuracy: 0.9370 - val_loss: 0.1758 - val_accuracy: 0.9468\n",
            "Epoch 25/100\n",
            "12/12 [==============================] - 0s 5ms/step - loss: 0.1869 - accuracy: 0.9370 - val_loss: 0.1726 - val_accuracy: 0.9468\n",
            "Epoch 26/100\n",
            "12/12 [==============================] - 0s 5ms/step - loss: 0.1828 - accuracy: 0.9370 - val_loss: 0.1696 - val_accuracy: 0.9468\n",
            "Epoch 27/100\n",
            "12/12 [==============================] - 0s 5ms/step - loss: 0.1789 - accuracy: 0.9396 - val_loss: 0.1668 - val_accuracy: 0.9468\n",
            "Epoch 28/100\n",
            "12/12 [==============================] - 0s 4ms/step - loss: 0.1752 - accuracy: 0.9396 - val_loss: 0.1641 - val_accuracy: 0.9468\n",
            "Epoch 29/100\n",
            "12/12 [==============================] - 0s 6ms/step - loss: 0.1715 - accuracy: 0.9423 - val_loss: 0.1615 - val_accuracy: 0.9468\n",
            "Epoch 30/100\n",
            "12/12 [==============================] - 0s 6ms/step - loss: 0.1679 - accuracy: 0.9449 - val_loss: 0.1590 - val_accuracy: 0.9468\n",
            "Epoch 31/100\n",
            "12/12 [==============================] - 0s 4ms/step - loss: 0.1647 - accuracy: 0.9449 - val_loss: 0.1568 - val_accuracy: 0.9468\n",
            "Epoch 32/100\n",
            "12/12 [==============================] - 0s 5ms/step - loss: 0.1617 - accuracy: 0.9449 - val_loss: 0.1546 - val_accuracy: 0.9468\n",
            "Epoch 33/100\n",
            "12/12 [==============================] - 0s 6ms/step - loss: 0.1584 - accuracy: 0.9449 - val_loss: 0.1525 - val_accuracy: 0.9468\n",
            "Epoch 34/100\n",
            "12/12 [==============================] - 0s 4ms/step - loss: 0.1558 - accuracy: 0.9475 - val_loss: 0.1505 - val_accuracy: 0.9468\n",
            "Epoch 35/100\n",
            "12/12 [==============================] - 0s 5ms/step - loss: 0.1529 - accuracy: 0.9475 - val_loss: 0.1487 - val_accuracy: 0.9468\n",
            "Epoch 36/100\n",
            "12/12 [==============================] - 0s 6ms/step - loss: 0.1503 - accuracy: 0.9501 - val_loss: 0.1468 - val_accuracy: 0.9468\n",
            "Epoch 37/100\n",
            "12/12 [==============================] - 0s 4ms/step - loss: 0.1476 - accuracy: 0.9528 - val_loss: 0.1450 - val_accuracy: 0.9468\n",
            "Epoch 38/100\n",
            "12/12 [==============================] - 0s 5ms/step - loss: 0.1451 - accuracy: 0.9528 - val_loss: 0.1434 - val_accuracy: 0.9468\n",
            "Epoch 39/100\n",
            "12/12 [==============================] - 0s 5ms/step - loss: 0.1428 - accuracy: 0.9528 - val_loss: 0.1418 - val_accuracy: 0.9468\n",
            "Epoch 40/100\n",
            "12/12 [==============================] - 0s 5ms/step - loss: 0.1406 - accuracy: 0.9528 - val_loss: 0.1403 - val_accuracy: 0.9468\n",
            "Epoch 41/100\n",
            "12/12 [==============================] - 0s 6ms/step - loss: 0.1384 - accuracy: 0.9528 - val_loss: 0.1388 - val_accuracy: 0.9521\n",
            "Epoch 42/100\n",
            "12/12 [==============================] - 0s 4ms/step - loss: 0.1363 - accuracy: 0.9554 - val_loss: 0.1374 - val_accuracy: 0.9521\n",
            "Epoch 43/100\n",
            "12/12 [==============================] - 0s 4ms/step - loss: 0.1344 - accuracy: 0.9580 - val_loss: 0.1361 - val_accuracy: 0.9521\n",
            "Epoch 44/100\n",
            "12/12 [==============================] - 0s 4ms/step - loss: 0.1323 - accuracy: 0.9580 - val_loss: 0.1347 - val_accuracy: 0.9574\n",
            "Epoch 45/100\n",
            "12/12 [==============================] - 0s 4ms/step - loss: 0.1306 - accuracy: 0.9580 - val_loss: 0.1335 - val_accuracy: 0.9574\n",
            "Epoch 46/100\n",
            "12/12 [==============================] - 0s 8ms/step - loss: 0.1287 - accuracy: 0.9580 - val_loss: 0.1323 - val_accuracy: 0.9574\n",
            "Epoch 47/100\n",
            "12/12 [==============================] - 0s 7ms/step - loss: 0.1270 - accuracy: 0.9606 - val_loss: 0.1310 - val_accuracy: 0.9574\n",
            "Epoch 48/100\n",
            "12/12 [==============================] - 0s 7ms/step - loss: 0.1253 - accuracy: 0.9606 - val_loss: 0.1299 - val_accuracy: 0.9574\n",
            "Epoch 49/100\n",
            "12/12 [==============================] - 0s 6ms/step - loss: 0.1238 - accuracy: 0.9606 - val_loss: 0.1289 - val_accuracy: 0.9574\n",
            "Epoch 50/100\n",
            "12/12 [==============================] - 0s 5ms/step - loss: 0.1222 - accuracy: 0.9580 - val_loss: 0.1278 - val_accuracy: 0.9574\n",
            "Epoch 51/100\n",
            "12/12 [==============================] - 0s 6ms/step - loss: 0.1207 - accuracy: 0.9633 - val_loss: 0.1269 - val_accuracy: 0.9628\n",
            "Epoch 52/100\n",
            "12/12 [==============================] - 0s 5ms/step - loss: 0.1192 - accuracy: 0.9685 - val_loss: 0.1258 - val_accuracy: 0.9628\n",
            "Epoch 53/100\n",
            "12/12 [==============================] - 0s 5ms/step - loss: 0.1178 - accuracy: 0.9685 - val_loss: 0.1249 - val_accuracy: 0.9628\n",
            "Epoch 54/100\n",
            "12/12 [==============================] - 0s 5ms/step - loss: 0.1165 - accuracy: 0.9685 - val_loss: 0.1239 - val_accuracy: 0.9628\n",
            "Epoch 55/100\n",
            "12/12 [==============================] - 0s 5ms/step - loss: 0.1152 - accuracy: 0.9685 - val_loss: 0.1231 - val_accuracy: 0.9628\n",
            "Epoch 56/100\n",
            "12/12 [==============================] - 0s 6ms/step - loss: 0.1139 - accuracy: 0.9685 - val_loss: 0.1222 - val_accuracy: 0.9628\n",
            "Epoch 57/100\n",
            "12/12 [==============================] - 0s 4ms/step - loss: 0.1128 - accuracy: 0.9685 - val_loss: 0.1214 - val_accuracy: 0.9628\n",
            "Epoch 58/100\n",
            "12/12 [==============================] - 0s 5ms/step - loss: 0.1115 - accuracy: 0.9711 - val_loss: 0.1206 - val_accuracy: 0.9628\n",
            "Epoch 59/100\n",
            "12/12 [==============================] - 0s 5ms/step - loss: 0.1104 - accuracy: 0.9711 - val_loss: 0.1198 - val_accuracy: 0.9628\n",
            "Epoch 60/100\n",
            "12/12 [==============================] - 0s 4ms/step - loss: 0.1093 - accuracy: 0.9711 - val_loss: 0.1190 - val_accuracy: 0.9628\n",
            "Epoch 61/100\n",
            "12/12 [==============================] - 0s 4ms/step - loss: 0.1082 - accuracy: 0.9711 - val_loss: 0.1182 - val_accuracy: 0.9681\n",
            "Epoch 62/100\n",
            "12/12 [==============================] - 0s 4ms/step - loss: 0.1072 - accuracy: 0.9711 - val_loss: 0.1176 - val_accuracy: 0.9681\n",
            "Epoch 63/100\n",
            "12/12 [==============================] - 0s 6ms/step - loss: 0.1062 - accuracy: 0.9711 - val_loss: 0.1168 - val_accuracy: 0.9681\n",
            "Epoch 64/100\n",
            "12/12 [==============================] - 0s 6ms/step - loss: 0.1052 - accuracy: 0.9711 - val_loss: 0.1162 - val_accuracy: 0.9681\n",
            "Epoch 65/100\n",
            "12/12 [==============================] - 0s 5ms/step - loss: 0.1042 - accuracy: 0.9711 - val_loss: 0.1155 - val_accuracy: 0.9681\n",
            "Epoch 66/100\n",
            "12/12 [==============================] - 0s 5ms/step - loss: 0.1033 - accuracy: 0.9711 - val_loss: 0.1148 - val_accuracy: 0.9681\n",
            "Epoch 67/100\n",
            "12/12 [==============================] - 0s 4ms/step - loss: 0.1024 - accuracy: 0.9711 - val_loss: 0.1142 - val_accuracy: 0.9681\n",
            "Epoch 68/100\n",
            "12/12 [==============================] - 0s 4ms/step - loss: 0.1015 - accuracy: 0.9738 - val_loss: 0.1136 - val_accuracy: 0.9681\n",
            "Epoch 69/100\n",
            "12/12 [==============================] - 0s 5ms/step - loss: 0.1006 - accuracy: 0.9738 - val_loss: 0.1131 - val_accuracy: 0.9681\n",
            "Epoch 70/100\n",
            "12/12 [==============================] - 0s 6ms/step - loss: 0.0998 - accuracy: 0.9738 - val_loss: 0.1125 - val_accuracy: 0.9681\n",
            "Epoch 71/100\n",
            "12/12 [==============================] - 0s 4ms/step - loss: 0.0990 - accuracy: 0.9738 - val_loss: 0.1120 - val_accuracy: 0.9681\n",
            "Epoch 72/100\n",
            "12/12 [==============================] - 0s 4ms/step - loss: 0.0982 - accuracy: 0.9738 - val_loss: 0.1114 - val_accuracy: 0.9681\n",
            "Epoch 73/100\n",
            "12/12 [==============================] - 0s 5ms/step - loss: 0.0975 - accuracy: 0.9738 - val_loss: 0.1109 - val_accuracy: 0.9681\n",
            "Epoch 74/100\n",
            "12/12 [==============================] - 0s 4ms/step - loss: 0.0966 - accuracy: 0.9738 - val_loss: 0.1104 - val_accuracy: 0.9681\n",
            "Epoch 75/100\n",
            "12/12 [==============================] - 0s 6ms/step - loss: 0.0960 - accuracy: 0.9764 - val_loss: 0.1099 - val_accuracy: 0.9681\n",
            "Epoch 76/100\n",
            "12/12 [==============================] - 0s 4ms/step - loss: 0.0952 - accuracy: 0.9764 - val_loss: 0.1094 - val_accuracy: 0.9681\n",
            "Epoch 77/100\n",
            "12/12 [==============================] - 0s 5ms/step - loss: 0.0945 - accuracy: 0.9764 - val_loss: 0.1089 - val_accuracy: 0.9681\n",
            "Epoch 78/100\n",
            "12/12 [==============================] - 0s 6ms/step - loss: 0.0938 - accuracy: 0.9764 - val_loss: 0.1085 - val_accuracy: 0.9681\n",
            "Epoch 79/100\n",
            "12/12 [==============================] - 0s 5ms/step - loss: 0.0931 - accuracy: 0.9764 - val_loss: 0.1080 - val_accuracy: 0.9681\n",
            "Epoch 80/100\n",
            "12/12 [==============================] - 0s 6ms/step - loss: 0.0925 - accuracy: 0.9764 - val_loss: 0.1075 - val_accuracy: 0.9681\n",
            "Epoch 81/100\n",
            "12/12 [==============================] - 0s 4ms/step - loss: 0.0918 - accuracy: 0.9764 - val_loss: 0.1071 - val_accuracy: 0.9681\n",
            "Epoch 82/100\n",
            "12/12 [==============================] - 0s 6ms/step - loss: 0.0912 - accuracy: 0.9790 - val_loss: 0.1067 - val_accuracy: 0.9681\n",
            "Epoch 83/100\n",
            "12/12 [==============================] - 0s 5ms/step - loss: 0.0906 - accuracy: 0.9816 - val_loss: 0.1063 - val_accuracy: 0.9681\n",
            "Epoch 84/100\n",
            "12/12 [==============================] - 0s 4ms/step - loss: 0.0900 - accuracy: 0.9816 - val_loss: 0.1059 - val_accuracy: 0.9681\n",
            "Epoch 85/100\n",
            "12/12 [==============================] - 0s 6ms/step - loss: 0.0894 - accuracy: 0.9816 - val_loss: 0.1055 - val_accuracy: 0.9681\n",
            "Epoch 86/100\n",
            "12/12 [==============================] - 0s 5ms/step - loss: 0.0888 - accuracy: 0.9816 - val_loss: 0.1051 - val_accuracy: 0.9681\n",
            "Epoch 87/100\n",
            "12/12 [==============================] - 0s 4ms/step - loss: 0.0883 - accuracy: 0.9816 - val_loss: 0.1048 - val_accuracy: 0.9681\n",
            "Epoch 88/100\n",
            "12/12 [==============================] - 0s 4ms/step - loss: 0.0878 - accuracy: 0.9816 - val_loss: 0.1044 - val_accuracy: 0.9681\n",
            "Epoch 89/100\n",
            "12/12 [==============================] - 0s 8ms/step - loss: 0.0871 - accuracy: 0.9816 - val_loss: 0.1041 - val_accuracy: 0.9681\n",
            "Epoch 90/100\n",
            "12/12 [==============================] - 0s 15ms/step - loss: 0.0867 - accuracy: 0.9816 - val_loss: 0.1037 - val_accuracy: 0.9681\n",
            "Epoch 91/100\n",
            "12/12 [==============================] - 0s 5ms/step - loss: 0.0861 - accuracy: 0.9843 - val_loss: 0.1033 - val_accuracy: 0.9681\n",
            "Epoch 92/100\n",
            "12/12 [==============================] - 0s 10ms/step - loss: 0.0856 - accuracy: 0.9816 - val_loss: 0.1030 - val_accuracy: 0.9681\n",
            "Epoch 93/100\n",
            "12/12 [==============================] - 0s 7ms/step - loss: 0.0851 - accuracy: 0.9816 - val_loss: 0.1027 - val_accuracy: 0.9681\n",
            "Epoch 94/100\n",
            "12/12 [==============================] - 0s 7ms/step - loss: 0.0846 - accuracy: 0.9843 - val_loss: 0.1024 - val_accuracy: 0.9681\n",
            "Epoch 95/100\n",
            "12/12 [==============================] - 0s 7ms/step - loss: 0.0841 - accuracy: 0.9843 - val_loss: 0.1021 - val_accuracy: 0.9734\n",
            "Epoch 96/100\n",
            "12/12 [==============================] - 0s 9ms/step - loss: 0.0836 - accuracy: 0.9843 - val_loss: 0.1018 - val_accuracy: 0.9734\n",
            "Epoch 97/100\n",
            "12/12 [==============================] - 0s 9ms/step - loss: 0.0832 - accuracy: 0.9843 - val_loss: 0.1015 - val_accuracy: 0.9734\n",
            "Epoch 98/100\n",
            "12/12 [==============================] - 0s 8ms/step - loss: 0.0827 - accuracy: 0.9843 - val_loss: 0.1012 - val_accuracy: 0.9734\n",
            "Epoch 99/100\n",
            "12/12 [==============================] - 0s 9ms/step - loss: 0.0823 - accuracy: 0.9843 - val_loss: 0.1010 - val_accuracy: 0.9734\n",
            "Epoch 100/100\n",
            "12/12 [==============================] - 0s 7ms/step - loss: 0.0818 - accuracy: 0.9843 - val_loss: 0.1007 - val_accuracy: 0.9734\n",
            "12/12 [==============================] - 0s 3ms/step - loss: 0.0816 - accuracy: 0.9843\n",
            "Train score: [0.08156141638755798, 0.9842519760131836]\n",
            "6/6 [==============================] - 0s 4ms/step - loss: 0.1007 - accuracy: 0.9734\n",
            "Train score: [0.10068655759096146, 0.9734042286872864]\n"
          ]
        }
      ]
    },
    {
      "cell_type": "code",
      "source": [
        "#plot what is returned by model.fit\n",
        "import matplotlib.pyplot as plt\n",
        "plt.plot(r.history['loss'], label='loss')\n",
        "plt.plot(r.history['val_loss'], label='val_loss')\n",
        "plt.legend()"
      ],
      "metadata": {
        "colab": {
          "base_uri": "https://localhost:8080/",
          "height": 282
        },
        "id": "n58rtYZEbuvA",
        "outputId": "fef17f22-ca10-4c5b-d3cc-b804fd3dbea2"
      },
      "execution_count": 14,
      "outputs": [
        {
          "output_type": "execute_result",
          "data": {
            "text/plain": [
              "<matplotlib.legend.Legend at 0x7f1dcbddd2d0>"
            ]
          },
          "metadata": {},
          "execution_count": 14
        },
        {
          "output_type": "display_data",
          "data": {
            "text/plain": [
              "<Figure size 432x288 with 1 Axes>"
            ],
            "image/png": "[encoded data removed]"
          },
          "metadata": {
            "needs_background": "light"
          }
        }
      ]
    },
    {
      "cell_type": "code",
      "source": [
        "#plot the accuracy\n",
        "plt.plot(r.history['accuracy'], label='acc')\n",
        "plt.plot(r.history['val_accuracy'], label='val_acc')\n",
        "plt.legend()"
      ],
      "metadata": {
        "colab": {
          "base_uri": "https://localhost:8080/",
          "height": 282
        },
        "id": "XsrX36Bhcr1_",
        "outputId": "12db9ce4-837c-45ae-83f5-2244a1e08911"
      },
      "execution_count": 15,
      "outputs": [
        {
          "output_type": "execute_result",
          "data": {
            "text/plain": [
              "<matplotlib.legend.Legend at 0x7f1dc5b60650>"
            ]
          },
          "metadata": {},
          "execution_count": 15
        },
        {
          "output_type": "display_data",
          "data": {
            "text/plain": [
              "<Figure size 432x288 with 1 Axes>"
            ],
            "image/png": "[encoded data removed]"
          },
          "metadata": {
            "needs_background": "light"
          }
        }
      ]
    },
    {
      "cell_type": "markdown",
      "source": [
        "Part 2: Making predictions"
      ],
      "metadata": {
        "id": "bXn0K46ySEfZ"
      }
    },
    {
      "cell_type": "code",
      "source": [
        "#make predictions\n",
        "p = model.predict(x_test)\n",
        "print(p)"
      ],
      "metadata": {
        "colab": {
          "base_uri": "https://localhost:8080/"
        },
        "id": "MmESnFxISMIS",
        "outputId": "19b47370-1a3c-48a0-803d-de631cb9932f"
      },
      "execution_count": 16,
      "outputs": [
        {
          "output_type": "stream",
          "name": "stdout",
          "text": [
            "6/6 [==============================] - 0s 2ms/step\n",
            "[[9.80479956e-01]\n",
            " [9.99840975e-01]\n",
            " [9.97631192e-01]\n",
            " [9.80515838e-01]\n",
            " [4.76334214e-01]\n",
            " [9.80635405e-01]\n",
            " [9.99757171e-01]\n",
            " [9.88915861e-01]\n",
            " [9.69023883e-01]\n",
            " [9.68820572e-01]\n",
            " [9.92229521e-01]\n",
            " [7.34848320e-01]\n",
            " [9.32835007e-07]\n",
            " [8.44027221e-01]\n",
            " [9.77103889e-01]\n",
            " [9.95667934e-01]\n",
            " [1.76285207e-02]\n",
            " [1.60269544e-03]\n",
            " [9.98871803e-01]\n",
            " [9.54169691e-01]\n",
            " [9.82420504e-01]\n",
            " [8.47718060e-01]\n",
            " [9.55278516e-01]\n",
            " [9.93006527e-01]\n",
            " [9.99096692e-01]\n",
            " [9.55899298e-01]\n",
            " [9.90340829e-01]\n",
            " [9.60361838e-01]\n",
            " [9.70531881e-01]\n",
            " [4.15399609e-06]\n",
            " [7.32712579e-05]\n",
            " [9.92707729e-01]\n",
            " [2.61551701e-03]\n",
            " [9.98713970e-01]\n",
            " [9.76337671e-01]\n",
            " [9.54377583e-07]\n",
            " [9.98989940e-01]\n",
            " [9.84274149e-01]\n",
            " [7.31961602e-09]\n",
            " [9.94677603e-01]\n",
            " [8.29037964e-01]\n",
            " [1.60820819e-02]\n",
            " [9.87341166e-01]\n",
            " [2.62139361e-06]\n",
            " [9.77905989e-01]\n",
            " [3.11328411e-01]\n",
            " [9.95281458e-01]\n",
            " [9.86241460e-01]\n",
            " [9.58213687e-01]\n",
            " [9.93200004e-01]\n",
            " [2.86634272e-09]\n",
            " [6.04263902e-01]\n",
            " [9.99335825e-01]\n",
            " [9.97545063e-01]\n",
            " [9.91406739e-01]\n",
            " [9.20394778e-01]\n",
            " [9.97153878e-01]\n",
            " [9.98474896e-01]\n",
            " [2.49522360e-04]\n",
            " [4.88094389e-01]\n",
            " [3.30529572e-03]\n",
            " [9.96430933e-01]\n",
            " [9.98925924e-01]\n",
            " [4.28655803e-01]\n",
            " [9.86373246e-01]\n",
            " [9.04645085e-01]\n",
            " [7.16732722e-03]\n",
            " [2.17279071e-15]\n",
            " [9.78166699e-01]\n",
            " [1.25766492e-05]\n",
            " [9.88418013e-02]\n",
            " [8.14246416e-01]\n",
            " [1.86672527e-02]\n",
            " [9.93231237e-01]\n",
            " [9.52218831e-01]\n",
            " [5.82150146e-02]\n",
            " [1.26717998e-06]\n",
            " [9.89366531e-01]\n",
            " [8.95205903e-06]\n",
            " [2.98816502e-01]\n",
            " [9.97039914e-01]\n",
            " [9.99052942e-01]\n",
            " [1.18426576e-01]\n",
            " [3.28900248e-01]\n",
            " [9.92443144e-01]\n",
            " [9.98960674e-01]\n",
            " [8.11917245e-01]\n",
            " [9.93331432e-01]\n",
            " [5.98913312e-01]\n",
            " [9.48994517e-01]\n",
            " [9.90048885e-01]\n",
            " [9.99219537e-01]\n",
            " [9.98189986e-01]\n",
            " [7.46884823e-01]\n",
            " [9.87689734e-01]\n",
            " [9.90991414e-01]\n",
            " [9.99647141e-01]\n",
            " [2.98308369e-05]\n",
            " [9.12086606e-01]\n",
            " [9.96478379e-01]\n",
            " [9.63810086e-01]\n",
            " [4.43096564e-04]\n",
            " [9.98937547e-01]\n",
            " [1.69133057e-06]\n",
            " [9.98469710e-01]\n",
            " [6.87535584e-01]\n",
            " [9.98317719e-01]\n",
            " [9.92830753e-01]\n",
            " [2.38140032e-01]\n",
            " [4.10135777e-04]\n",
            " [9.99935627e-01]\n",
            " [6.11414900e-03]\n",
            " [7.16334849e-04]\n",
            " [9.76161122e-01]\n",
            " [9.72999156e-01]\n",
            " [9.99113202e-01]\n",
            " [9.90477920e-01]\n",
            " [4.55227420e-02]\n",
            " [9.96194541e-01]\n",
            " [6.82850019e-04]\n",
            " [9.97936547e-01]\n",
            " [9.88220036e-01]\n",
            " [3.22390604e-03]\n",
            " [1.01827018e-05]\n",
            " [2.29603827e-01]\n",
            " [6.91322784e-04]\n",
            " [9.78540063e-01]\n",
            " [9.76881921e-01]\n",
            " [9.96612787e-01]\n",
            " [9.99928415e-01]\n",
            " [9.99305129e-01]\n",
            " [9.72964287e-01]\n",
            " [9.97845829e-01]\n",
            " [7.36864507e-02]\n",
            " [5.99591695e-02]\n",
            " [9.99401629e-01]\n",
            " [9.35562193e-01]\n",
            " [9.23059404e-01]\n",
            " [9.94784415e-01]\n",
            " [9.56710875e-01]\n",
            " [9.97751594e-01]\n",
            " [9.33552444e-01]\n",
            " [2.87030562e-04]\n",
            " [9.91000354e-01]\n",
            " [9.99141753e-01]\n",
            " [9.99697089e-01]\n",
            " [2.42925622e-03]\n",
            " [2.59009236e-03]\n",
            " [9.62645352e-01]\n",
            " [9.21321332e-01]\n",
            " [4.57839251e-01]\n",
            " [5.90866923e-01]\n",
            " [9.99933243e-01]\n",
            " [1.15807138e-01]\n",
            " [9.41771686e-01]\n",
            " [9.73534465e-01]\n",
            " [9.11085606e-01]\n",
            " [4.90307182e-01]\n",
            " [4.01771337e-01]\n",
            " [9.53335464e-01]\n",
            " [9.35645700e-01]\n",
            " [8.62941306e-07]\n",
            " [6.20006800e-01]\n",
            " [6.53023124e-01]\n",
            " [9.95855272e-01]\n",
            " [9.94239807e-01]\n",
            " [9.56193089e-01]\n",
            " [9.99600470e-01]\n",
            " [9.00418341e-01]\n",
            " [1.97775342e-04]\n",
            " [2.29482318e-08]\n",
            " [8.85871947e-01]\n",
            " [8.96747649e-01]\n",
            " [9.63957787e-01]\n",
            " [4.25880365e-02]\n",
            " [3.46520945e-04]\n",
            " [5.17859906e-02]\n",
            " [7.44442468e-06]\n",
            " [2.02100677e-03]\n",
            " [6.78819269e-02]\n",
            " [9.95864093e-01]\n",
            " [9.97707665e-01]\n",
            " [1.80355772e-01]\n",
            " [9.37195778e-01]\n",
            " [3.36532074e-04]\n",
            " [9.97438192e-01]\n",
            " [9.95538533e-01]\n",
            " [8.55862722e-02]]\n"
          ]
        }
      ]
    },
    {
      "cell_type": "code",
      "source": [
        "import numpy as np\n",
        "p =  np.round(p).flatten()\n",
        "print(p)"
      ],
      "metadata": {
        "colab": {
          "base_uri": "https://localhost:8080/"
        },
        "id": "C9Rl67A4SjAx",
        "outputId": "18571b52-c475-49a6-dea5-e6cdce1fc581"
      },
      "execution_count": 17,
      "outputs": [
        {
          "output_type": "stream",
          "name": "stdout",
          "text": [
            "[1. 1. 1. 1. 0. 1. 1. 1. 1. 1. 1. 1. 0. 1. 1. 1. 0. 0. 1. 1. 1. 1. 1. 1.\n",
            " 1. 1. 1. 1. 1. 0. 0. 1. 0. 1. 1. 0. 1. 1. 0. 1. 1. 0. 1. 0. 1. 0. 1. 1.\n",
            " 1. 1. 0. 1. 1. 1. 1. 1. 1. 1. 0. 0. 0. 1. 1. 0. 1. 1. 0. 0. 1. 0. 0. 1.\n",
            " 0. 1. 1. 0. 0. 1. 0. 0. 1. 1. 0. 0. 1. 1. 1. 1. 1. 1. 1. 1. 1. 1. 1. 1.\n",
            " 1. 0. 1. 1. 1. 0. 1. 0. 1. 1. 1. 1. 0. 0. 1. 0. 0. 1. 1. 1. 1. 0. 1. 0.\n",
            " 1. 1. 0. 0. 0. 0. 1. 1. 1. 1. 1. 1. 1. 0. 0. 1. 1. 1. 1. 1. 1. 1. 0. 1.\n",
            " 1. 1. 0. 0. 1. 1. 0. 1. 1. 0. 1. 1. 1. 0. 0. 1. 1. 0. 1. 1. 1. 1. 1. 1.\n",
            " 1. 0. 0. 1. 1. 1. 0. 0. 0. 0. 0. 0. 1. 1. 0. 1. 0. 1. 1. 0.]\n"
          ]
        }
      ]
    },
    {
      "cell_type": "code",
      "source": [
        "#calculate the accuracy\n",
        "print(\"Manually calculated accuracy:\", np.mean(p==y_test))\n",
        "print(\"Evaluate output:\", model.evaluate(x_test, y_test))"
      ],
      "metadata": {
        "colab": {
          "base_uri": "https://localhost:8080/"
        },
        "id": "0vLz5dzrS3c5",
        "outputId": "72aad524-dc88-443c-be6b-f802838d3c53"
      },
      "execution_count": 18,
      "outputs": [
        {
          "output_type": "stream",
          "name": "stdout",
          "text": [
            "Manually calculated accuracy: 0.973404255319149\n",
            "6/6 [==============================] - 0s 2ms/step - loss: 0.1007 - accuracy: 0.9734\n",
            "Evaluate output: [0.10068655759096146, 0.9734042286872864]\n"
          ]
        }
      ]
    },
    {
      "cell_type": "markdown",
      "source": [
        "Part 3: Saving and Loading model"
      ],
      "metadata": {
        "id": "MBUOjM_4alQ1"
      }
    },
    {
      "cell_type": "code",
      "source": [
        "#Lets now save our model to a file\n",
        "model.save('linearclassifier.h5')"
      ],
      "metadata": {
        "id": "1X_EQX-DaQg6"
      },
      "execution_count": 19,
      "outputs": []
    },
    {
      "cell_type": "code",
      "source": [
        "#check that the model file exists\n",
        "!ls -lh"
      ],
      "metadata": {
        "colab": {
          "base_uri": "https://localhost:8080/"
        },
        "id": "lK0xEBPhaZ2M",
        "outputId": "df231ebb-18bc-4e3c-8d81-906b8b6f4d2a"
      },
      "execution_count": 20,
      "outputs": [
        {
          "output_type": "stream",
          "name": "stdout",
          "text": [
            "total 24K\n",
            "-rw-r--r-- 1 root root  19K Jul 18 08:26 linearclassifier.h5\n",
            "drwxr-xr-x 1 root root 4.0K Jul 13 13:43 sample_data\n"
          ]
        }
      ]
    },
    {
      "cell_type": "code",
      "source": [
        "#let us load the model and confirm that it still works\n",
        "model = tf.keras.models.load_model(\"linearclassifier.h5\")\n",
        "print(model.layers)\n",
        "model.evaluate(x_test, y_test)"
      ],
      "metadata": {
        "colab": {
          "base_uri": "https://localhost:8080/"
        },
        "id": "kqDK24Vrahzj",
        "outputId": "62633445-130e-46ed-c8ed-f01a2f021f8d"
      },
      "execution_count": 21,
      "outputs": [
        {
          "output_type": "stream",
          "name": "stdout",
          "text": [
            "[<keras.layers.core.dense.Dense object at 0x7f1dc92eba90>]\n",
            "6/6 [==============================] - 0s 2ms/step - loss: 0.1007 - accuracy: 0.9734\n"
          ]
        },
        {
          "output_type": "execute_result",
          "data": {
            "text/plain": [
              "[0.10068655759096146, 0.9734042286872864]"
            ]
          },
          "metadata": {},
          "execution_count": 21
        }
      ]
    }
  ]
}