{
  "nbformat": 4,
  "nbformat_minor": 0,
  "metadata": {
    "colab": {
      "name": "Autoregressive Model.ipynb",
      "provenance": [],
      "authorship_tag": "ABX9TyN5lBw9L25DtttjZG5BHfIM",
      "include_colab_link": true
    },
    "kernelspec": {
      "name": "python3",
      "display_name": "Python 3"
    },
    "language_info": {
      "name": "python"
    }
  },
  "cells": [
    {
      "cell_type": "markdown",
      "metadata": {
        "id": "view-in-github",
        "colab_type": "text"
      },
      "source": [
        "<a href=\"https://colab.research.google.com/github/kumbieny/kumbieny/blob/main/Autoregressive_Model.ipynb\" target=\"_parent\"><img src=\"https://colab.research.google.com/assets/colab-badge.svg\" alt=\"Open In Colab\"/></a>"
      ]
    },
    {
      "cell_type": "code",
      "execution_count": 12,
      "metadata": {
        "colab": {
          "base_uri": "https://localhost:8080/"
        },
        "id": "u1MD0gkJ7xfk",
        "outputId": "d9c42136-50ed-4327-d4a6-f37b303f6597"
      },
      "outputs": [
        {
          "output_type": "stream",
          "name": "stdout",
          "text": [
            "2.9.0\n"
          ]
        }
      ],
      "source": [
        "#Install Tensorflow\n",
        "!pip install -q tensorflow-gpu==2.9.0\n",
        "import tensorflow as tf\n",
        "print(tf.__version__)"
      ]
    },
    {
      "cell_type": "code",
      "source": [
        "from tensorflow.keras.layers import Input, Dense\n",
        "from tensorflow.keras.models import Model\n",
        "from tensorflow.keras.optimizers import SGD, Adam\n",
        "\n",
        "import numpy as np\n",
        "import pandas as pd\n",
        "import matplotlib.pyplot as plt\n"
      ],
      "metadata": {
        "id": "_53JSE7o9YYA"
      },
      "execution_count": 13,
      "outputs": []
    },
    {
      "cell_type": "code",
      "source": [
        "#Make the original data\n",
        "series = np.sin(0.1*np.arange(200)) + np.random.randn(200)*0.1\n",
        "#plot it\n",
        "plt.plot(series)\n",
        "plt.show()"
      ],
      "metadata": {
        "colab": {
          "base_uri": "https://localhost:8080/",
          "height": 265
        },
        "id": "TiaPpVMpDuqc",
        "outputId": "f96ac29f-51bb-41c5-ac16-b0be8f6275c6"
      },
      "execution_count": 14,
      "outputs": [
        {
          "output_type": "display_data",
          "data": {
            "text/plain": [
              "<Figure size 432x288 with 1 Axes>"
            ],
            "image/png": "[encoded data removed]"
          },
          "metadata": {
            "needs_background": "light"
          }
        }
      ]
    },
    {
      "cell_type": "code",
      "source": [
        "#build the dataset\n",
        "#let's see if we can use T past values to predict the next value\n",
        "T=10\n",
        "X=[]\n",
        "Y=[]\n",
        "for t in range (len(series)-T):\n",
        "  x=series[t:t+T]\n",
        "  X.append(x)\n",
        "  y=series[t+T]\n",
        "  Y.append(y)\n",
        "X=np.array(X).reshape(-1, T)\n",
        "Y=np.array(Y)\n",
        "N=len(X)\n",
        "print(\"X.shape\", X.shape, \"Y.shape\", Y.shape)"
      ],
      "metadata": {
        "colab": {
          "base_uri": "https://localhost:8080/"
        },
        "id": "HmqCe1toEiLd",
        "outputId": "5c1c60aa-b335-4d8f-a753-e5c7eade321c"
      },
      "execution_count": 15,
      "outputs": [
        {
          "output_type": "stream",
          "name": "stdout",
          "text": [
            "X.shape (190, 10) Y.shape (190,)\n"
          ]
        }
      ]
    },
    {
      "cell_type": "code",
      "source": [
        "### Autoregressive linear model\n",
        "i = Input(shape=(T,))\n",
        "x=Dense(1)(i)\n",
        "model = Model(i,x)\n",
        "model.compile(\n",
        "  loss='mse',\n",
        "  optimizer=Adam(lr=0.1),\n",
        ")\n",
        "r = model.fit(\n",
        "  X[:-N//2], Y[:-N//2],\n",
        "  epochs=80,\n",
        "  validation_data=(X[-N//2:], Y[-N//2:]),\n",
        "  )"
      ],
      "metadata": {
        "colab": {
          "base_uri": "https://localhost:8080/"
        },
        "id": "I_Bwi-psHzSR",
        "outputId": "13046030-add4-479c-c836-72e567a5aa7b"
      },
      "execution_count": 16,
      "outputs": [
        {
          "output_type": "stream",
          "name": "stdout",
          "text": [
            "Epoch 1/80\n"
          ]
        },
        {
          "output_type": "stream",
          "name": "stderr",
          "text": [
            "/usr/local/lib/python3.7/dist-packages/keras/optimizers/optimizer_v2/adam.py:110: UserWarning: The `lr` argument is deprecated, use `learning_rate` instead.\n",
            "  super(Adam, self).__init__(name, **kwargs)\n"
          ]
        },
        {
          "output_type": "stream",
          "name": "stdout",
          "text": [
            "3/3 [==============================] - 0s 70ms/step - loss: 0.5272 - val_loss: 0.4079\n",
            "Epoch 2/80\n",
            "3/3 [==============================] - 0s 23ms/step - loss: 0.3580 - val_loss: 0.1296\n",
            "Epoch 3/80\n",
            "3/3 [==============================] - 0s 22ms/step - loss: 0.1473 - val_loss: 0.1547\n",
            "Epoch 4/80\n",
            "3/3 [==============================] - 0s 23ms/step - loss: 0.1579 - val_loss: 0.0439\n",
            "Epoch 5/80\n",
            "3/3 [==============================] - 0s 23ms/step - loss: 0.0617 - val_loss: 0.0970\n",
            "Epoch 6/80\n",
            "3/3 [==============================] - 0s 23ms/step - loss: 0.0954 - val_loss: 0.0491\n",
            "Epoch 7/80\n",
            "3/3 [==============================] - 0s 23ms/step - loss: 0.0569 - val_loss: 0.0990\n",
            "Epoch 8/80\n",
            "3/3 [==============================] - 0s 24ms/step - loss: 0.0822 - val_loss: 0.0623\n",
            "Epoch 9/80\n",
            "3/3 [==============================] - 0s 14ms/step - loss: 0.0485 - val_loss: 0.0536\n",
            "Epoch 10/80\n",
            "3/3 [==============================] - 0s 27ms/step - loss: 0.0584 - val_loss: 0.0417\n",
            "Epoch 11/80\n",
            "3/3 [==============================] - 0s 22ms/step - loss: 0.0434 - val_loss: 0.0386\n",
            "Epoch 12/80\n",
            "3/3 [==============================] - 0s 16ms/step - loss: 0.0446 - val_loss: 0.0317\n",
            "Epoch 13/80\n",
            "3/3 [==============================] - 0s 14ms/step - loss: 0.0323 - val_loss: 0.0365\n",
            "Epoch 14/80\n",
            "3/3 [==============================] - 0s 22ms/step - loss: 0.0385 - val_loss: 0.0295\n",
            "Epoch 15/80\n",
            "3/3 [==============================] - 0s 14ms/step - loss: 0.0311 - val_loss: 0.0317\n",
            "Epoch 16/80\n",
            "3/3 [==============================] - 0s 16ms/step - loss: 0.0344 - val_loss: 0.0282\n",
            "Epoch 17/80\n",
            "3/3 [==============================] - 0s 18ms/step - loss: 0.0305 - val_loss: 0.0286\n",
            "Epoch 18/80\n",
            "3/3 [==============================] - 0s 25ms/step - loss: 0.0298 - val_loss: 0.0260\n",
            "Epoch 19/80\n",
            "3/3 [==============================] - 0s 24ms/step - loss: 0.0310 - val_loss: 0.0280\n",
            "Epoch 20/80\n",
            "3/3 [==============================] - 0s 16ms/step - loss: 0.0284 - val_loss: 0.0261\n",
            "Epoch 21/80\n",
            "3/3 [==============================] - 0s 23ms/step - loss: 0.0286 - val_loss: 0.0260\n",
            "Epoch 22/80\n",
            "3/3 [==============================] - 0s 24ms/step - loss: 0.0263 - val_loss: 0.0270\n",
            "Epoch 23/80\n",
            "3/3 [==============================] - 0s 23ms/step - loss: 0.0271 - val_loss: 0.0229\n",
            "Epoch 24/80\n",
            "3/3 [==============================] - 0s 14ms/step - loss: 0.0233 - val_loss: 0.0235\n",
            "Epoch 25/80\n",
            "3/3 [==============================] - 0s 23ms/step - loss: 0.0238 - val_loss: 0.0218\n",
            "Epoch 26/80\n",
            "3/3 [==============================] - 0s 15ms/step - loss: 0.0223 - val_loss: 0.0212\n",
            "Epoch 27/80\n",
            "3/3 [==============================] - 0s 16ms/step - loss: 0.0224 - val_loss: 0.0214\n",
            "Epoch 28/80\n",
            "3/3 [==============================] - 0s 14ms/step - loss: 0.0227 - val_loss: 0.0206\n",
            "Epoch 29/80\n",
            "3/3 [==============================] - 0s 15ms/step - loss: 0.0202 - val_loss: 0.0200\n",
            "Epoch 30/80\n",
            "3/3 [==============================] - 0s 24ms/step - loss: 0.0214 - val_loss: 0.0199\n",
            "Epoch 31/80\n",
            "3/3 [==============================] - 0s 18ms/step - loss: 0.0194 - val_loss: 0.0198\n",
            "Epoch 32/80\n",
            "3/3 [==============================] - 0s 30ms/step - loss: 0.0196 - val_loss: 0.0187\n",
            "Epoch 33/80\n",
            "3/3 [==============================] - 0s 16ms/step - loss: 0.0181 - val_loss: 0.0182\n",
            "Epoch 34/80\n",
            "3/3 [==============================] - 0s 24ms/step - loss: 0.0183 - val_loss: 0.0179\n",
            "Epoch 35/80\n",
            "3/3 [==============================] - 0s 25ms/step - loss: 0.0169 - val_loss: 0.0179\n",
            "Epoch 36/80\n",
            "3/3 [==============================] - 0s 16ms/step - loss: 0.0174 - val_loss: 0.0171\n",
            "Epoch 37/80\n",
            "3/3 [==============================] - 0s 16ms/step - loss: 0.0163 - val_loss: 0.0168\n",
            "Epoch 38/80\n",
            "3/3 [==============================] - 0s 17ms/step - loss: 0.0160 - val_loss: 0.0164\n",
            "Epoch 39/80\n",
            "3/3 [==============================] - 0s 15ms/step - loss: 0.0157 - val_loss: 0.0162\n",
            "Epoch 40/80\n",
            "3/3 [==============================] - 0s 18ms/step - loss: 0.0151 - val_loss: 0.0162\n",
            "Epoch 41/80\n",
            "3/3 [==============================] - 0s 15ms/step - loss: 0.0151 - val_loss: 0.0157\n",
            "Epoch 42/80\n",
            "3/3 [==============================] - 0s 16ms/step - loss: 0.0145 - val_loss: 0.0155\n",
            "Epoch 43/80\n",
            "3/3 [==============================] - 0s 15ms/step - loss: 0.0139 - val_loss: 0.0152\n",
            "Epoch 44/80\n",
            "3/3 [==============================] - 0s 14ms/step - loss: 0.0145 - val_loss: 0.0150\n",
            "Epoch 45/80\n",
            "3/3 [==============================] - 0s 23ms/step - loss: 0.0141 - val_loss: 0.0151\n",
            "Epoch 46/80\n",
            "3/3 [==============================] - 0s 26ms/step - loss: 0.0140 - val_loss: 0.0148\n",
            "Epoch 47/80\n",
            "3/3 [==============================] - 0s 24ms/step - loss: 0.0133 - val_loss: 0.0150\n",
            "Epoch 48/80\n",
            "3/3 [==============================] - 0s 23ms/step - loss: 0.0131 - val_loss: 0.0145\n",
            "Epoch 49/80\n",
            "3/3 [==============================] - 0s 22ms/step - loss: 0.0127 - val_loss: 0.0141\n",
            "Epoch 50/80\n",
            "3/3 [==============================] - 0s 23ms/step - loss: 0.0126 - val_loss: 0.0141\n",
            "Epoch 51/80\n",
            "3/3 [==============================] - 0s 17ms/step - loss: 0.0139 - val_loss: 0.0143\n",
            "Epoch 52/80\n",
            "3/3 [==============================] - 0s 14ms/step - loss: 0.0116 - val_loss: 0.0154\n",
            "Epoch 53/80\n",
            "3/3 [==============================] - 0s 14ms/step - loss: 0.0125 - val_loss: 0.0139\n",
            "Epoch 54/80\n",
            "3/3 [==============================] - 0s 16ms/step - loss: 0.0121 - val_loss: 0.0137\n",
            "Epoch 55/80\n",
            "3/3 [==============================] - 0s 24ms/step - loss: 0.0113 - val_loss: 0.0145\n",
            "Epoch 56/80\n",
            "3/3 [==============================] - 0s 14ms/step - loss: 0.0129 - val_loss: 0.0135\n",
            "Epoch 57/80\n",
            "3/3 [==============================] - 0s 15ms/step - loss: 0.0113 - val_loss: 0.0136\n",
            "Epoch 58/80\n",
            "3/3 [==============================] - 0s 15ms/step - loss: 0.0132 - val_loss: 0.0135\n",
            "Epoch 59/80\n",
            "3/3 [==============================] - 0s 17ms/step - loss: 0.0109 - val_loss: 0.0141\n",
            "Epoch 60/80\n",
            "3/3 [==============================] - 0s 16ms/step - loss: 0.0111 - val_loss: 0.0135\n",
            "Epoch 61/80\n",
            "3/3 [==============================] - 0s 18ms/step - loss: 0.0108 - val_loss: 0.0136\n",
            "Epoch 62/80\n",
            "3/3 [==============================] - 0s 25ms/step - loss: 0.0110 - val_loss: 0.0130\n",
            "Epoch 63/80\n",
            "3/3 [==============================] - 0s 23ms/step - loss: 0.0110 - val_loss: 0.0138\n",
            "Epoch 64/80\n",
            "3/3 [==============================] - 0s 23ms/step - loss: 0.0103 - val_loss: 0.0143\n",
            "Epoch 65/80\n",
            "3/3 [==============================] - 0s 17ms/step - loss: 0.0131 - val_loss: 0.0132\n",
            "Epoch 66/80\n",
            "3/3 [==============================] - 0s 15ms/step - loss: 0.0107 - val_loss: 0.0140\n",
            "Epoch 67/80\n",
            "3/3 [==============================] - 0s 24ms/step - loss: 0.0111 - val_loss: 0.0141\n",
            "Epoch 68/80\n",
            "3/3 [==============================] - 0s 15ms/step - loss: 0.0107 - val_loss: 0.0136\n",
            "Epoch 69/80\n",
            "3/3 [==============================] - 0s 20ms/step - loss: 0.0104 - val_loss: 0.0132\n",
            "Epoch 70/80\n",
            "3/3 [==============================] - 0s 16ms/step - loss: 0.0104 - val_loss: 0.0131\n",
            "Epoch 71/80\n",
            "3/3 [==============================] - 0s 15ms/step - loss: 0.0102 - val_loss: 0.0131\n",
            "Epoch 72/80\n",
            "3/3 [==============================] - 0s 27ms/step - loss: 0.0101 - val_loss: 0.0134\n",
            "Epoch 73/80\n",
            "3/3 [==============================] - 0s 24ms/step - loss: 0.0097 - val_loss: 0.0137\n",
            "Epoch 74/80\n",
            "3/3 [==============================] - 0s 24ms/step - loss: 0.0102 - val_loss: 0.0132\n",
            "Epoch 75/80\n",
            "3/3 [==============================] - 0s 14ms/step - loss: 0.0100 - val_loss: 0.0129\n",
            "Epoch 76/80\n",
            "3/3 [==============================] - 0s 17ms/step - loss: 0.0096 - val_loss: 0.0130\n",
            "Epoch 77/80\n",
            "3/3 [==============================] - 0s 14ms/step - loss: 0.0102 - val_loss: 0.0131\n",
            "Epoch 78/80\n",
            "3/3 [==============================] - 0s 16ms/step - loss: 0.0102 - val_loss: 0.0133\n",
            "Epoch 79/80\n",
            "3/3 [==============================] - 0s 15ms/step - loss: 0.0093 - val_loss: 0.0135\n",
            "Epoch 80/80\n",
            "3/3 [==============================] - 0s 24ms/step - loss: 0.0100 - val_loss: 0.0134\n"
          ]
        }
      ]
    },
    {
      "cell_type": "code",
      "source": [
        "#Plot loss per iteration\n",
        "import matplotlib.pyplot as plt\n",
        "plt.plot(r.history['loss'], label='loss')\n",
        "plt.plot(r.history['val_loss'], label='val_loss')"
      ],
      "metadata": {
        "colab": {
          "base_uri": "https://localhost:8080/",
          "height": 282
        },
        "id": "PjIYDiOvOS9N",
        "outputId": "f7b8be3b-07fa-4685-beb8-8065240b8c91"
      },
      "execution_count": 17,
      "outputs": [
        {
          "output_type": "execute_result",
          "data": {
            "text/plain": [
              "[<matplotlib.lines.Line2D at 0x7f44bc566f10>]"
            ]
          },
          "metadata": {},
          "execution_count": 17
        },
        {
          "output_type": "display_data",
          "data": {
            "text/plain": [
              "<Figure size 432x288 with 1 Axes>"
            ],
            "image/png": "[encoded data removed]"
          },
          "metadata": {
            "needs_background": "light"
          }
        }
      ]
    },
    {
      "cell_type": "code",
      "source": [
        "#\"wrong\" forecast using true targets\n",
        "validation_target = Y[-N//2:]\n",
        "validation_predictions=[]\n",
        "\n",
        "#index of first validation input\n",
        "i=-N//2\n",
        "while len(validation_predictions)<len(validation_target):\n",
        "  p=model.predict(X[i].reshape(1, -1))[0, 0] #1x1 array -> scalar\n",
        "  i += 1\n",
        "  #update the prediction list\n",
        "  validation_predictions.append(p)"
      ],
      "metadata": {
        "colab": {
          "base_uri": "https://localhost:8080/"
        },
        "id": "acYIh3aiQfZ1",
        "outputId": "4aa695f3-d30d-4ded-8378-96fb7b05a6f8"
      },
      "execution_count": 18,
      "outputs": [
        {
          "output_type": "stream",
          "name": "stdout",
          "text": [
            "1/1 [==============================] - 0s 38ms/step\n",
            "1/1 [==============================] - 0s 18ms/step\n",
            "1/1 [==============================] - 0s 16ms/step\n",
            "1/1 [==============================] - 0s 18ms/step\n",
            "1/1 [==============================] - 0s 21ms/step\n",
            "1/1 [==============================] - 0s 17ms/step\n",
            "1/1 [==============================] - 0s 17ms/step\n",
            "1/1 [==============================] - 0s 18ms/step\n",
            "1/1 [==============================] - 0s 18ms/step\n",
            "1/1 [==============================] - 0s 20ms/step\n",
            "1/1 [==============================] - 0s 20ms/step\n",
            "1/1 [==============================] - 0s 18ms/step\n",
            "1/1 [==============================] - 0s 18ms/step\n",
            "1/1 [==============================] - 0s 18ms/step\n",
            "1/1 [==============================] - 0s 23ms/step\n",
            "1/1 [==============================] - 0s 31ms/step\n",
            "1/1 [==============================] - 0s 54ms/step\n",
            "1/1 [==============================] - 0s 44ms/step\n",
            "1/1 [==============================] - 0s 36ms/step\n",
            "1/1 [==============================] - 0s 35ms/step\n",
            "1/1 [==============================] - 0s 31ms/step\n",
            "1/1 [==============================] - 0s 32ms/step\n",
            "1/1 [==============================] - 0s 37ms/step\n",
            "1/1 [==============================] - 0s 53ms/step\n",
            "1/1 [==============================] - 0s 32ms/step\n",
            "1/1 [==============================] - 0s 33ms/step\n",
            "1/1 [==============================] - 0s 30ms/step\n",
            "1/1 [==============================] - 0s 35ms/step\n",
            "1/1 [==============================] - 0s 37ms/step\n",
            "1/1 [==============================] - 0s 42ms/step\n",
            "1/1 [==============================] - 0s 33ms/step\n",
            "1/1 [==============================] - 0s 25ms/step\n",
            "1/1 [==============================] - 0s 59ms/step\n",
            "1/1 [==============================] - 0s 33ms/step\n",
            "1/1 [==============================] - 0s 54ms/step\n",
            "1/1 [==============================] - 0s 26ms/step\n",
            "1/1 [==============================] - 0s 38ms/step\n",
            "1/1 [==============================] - 0s 38ms/step\n",
            "1/1 [==============================] - 0s 47ms/step\n",
            "1/1 [==============================] - 0s 41ms/step\n",
            "1/1 [==============================] - 0s 28ms/step\n",
            "1/1 [==============================] - 0s 37ms/step\n",
            "1/1 [==============================] - 0s 32ms/step\n",
            "1/1 [==============================] - 0s 49ms/step\n",
            "1/1 [==============================] - 0s 26ms/step\n",
            "1/1 [==============================] - 0s 94ms/step\n",
            "1/1 [==============================] - 0s 70ms/step\n",
            "1/1 [==============================] - 0s 65ms/step\n",
            "1/1 [==============================] - 0s 32ms/step\n",
            "1/1 [==============================] - 0s 53ms/step\n",
            "1/1 [==============================] - 0s 50ms/step\n",
            "1/1 [==============================] - 0s 29ms/step\n",
            "1/1 [==============================] - 0s 28ms/step\n",
            "1/1 [==============================] - 0s 54ms/step\n",
            "1/1 [==============================] - 0s 27ms/step\n",
            "1/1 [==============================] - 0s 40ms/step\n",
            "1/1 [==============================] - 0s 38ms/step\n",
            "1/1 [==============================] - 0s 35ms/step\n",
            "1/1 [==============================] - 0s 49ms/step\n",
            "1/1 [==============================] - 0s 29ms/step\n",
            "1/1 [==============================] - 0s 32ms/step\n",
            "1/1 [==============================] - 0s 36ms/step\n",
            "1/1 [==============================] - 0s 28ms/step\n",
            "1/1 [==============================] - 0s 81ms/step\n",
            "1/1 [==============================] - 0s 26ms/step\n",
            "1/1 [==============================] - 0s 32ms/step\n",
            "1/1 [==============================] - 0s 27ms/step\n",
            "1/1 [==============================] - 0s 27ms/step\n",
            "1/1 [==============================] - 0s 48ms/step\n",
            "1/1 [==============================] - 0s 86ms/step\n",
            "1/1 [==============================] - 0s 30ms/step\n",
            "1/1 [==============================] - 0s 43ms/step\n",
            "1/1 [==============================] - 0s 25ms/step\n",
            "1/1 [==============================] - 0s 28ms/step\n",
            "1/1 [==============================] - 0s 27ms/step\n",
            "1/1 [==============================] - 0s 24ms/step\n",
            "1/1 [==============================] - 0s 19ms/step\n",
            "1/1 [==============================] - 0s 18ms/step\n",
            "1/1 [==============================] - 0s 20ms/step\n",
            "1/1 [==============================] - 0s 18ms/step\n",
            "1/1 [==============================] - 0s 18ms/step\n",
            "1/1 [==============================] - 0s 20ms/step\n",
            "1/1 [==============================] - 0s 17ms/step\n",
            "1/1 [==============================] - 0s 17ms/step\n",
            "1/1 [==============================] - 0s 23ms/step\n",
            "1/1 [==============================] - 0s 17ms/step\n",
            "1/1 [==============================] - 0s 20ms/step\n",
            "1/1 [==============================] - 0s 19ms/step\n",
            "1/1 [==============================] - 0s 20ms/step\n",
            "1/1 [==============================] - 0s 28ms/step\n",
            "1/1 [==============================] - 0s 17ms/step\n",
            "1/1 [==============================] - 0s 17ms/step\n",
            "1/1 [==============================] - 0s 19ms/step\n",
            "1/1 [==============================] - 0s 20ms/step\n",
            "1/1 [==============================] - 0s 17ms/step\n"
          ]
        }
      ]
    },
    {
      "cell_type": "code",
      "source": [
        "plt.plot(validation_target, label='forecast target')\n",
        "plt.plot(validation_predictions, label='forecast prediction')\n",
        "plt.legend()"
      ],
      "metadata": {
        "colab": {
          "base_uri": "https://localhost:8080/",
          "height": 282
        },
        "id": "bWQsJRkmEf_k",
        "outputId": "1d1cef08-4402-4068-9142-fffb05d69e58"
      },
      "execution_count": 19,
      "outputs": [
        {
          "output_type": "execute_result",
          "data": {
            "text/plain": [
              "<matplotlib.legend.Legend at 0x7f44bc30c790>"
            ]
          },
          "metadata": {},
          "execution_count": 19
        },
        {
          "output_type": "display_data",
          "data": {
            "text/plain": [
              "<Figure size 432x288 with 1 Axes>"
            ],
            "image/png": "[encoded data removed]"
          },
          "metadata": {
            "needs_background": "light"
          }
        }
      ]
    },
    {
      "cell_type": "code",
      "source": [
        "#forecasting future values(use only self -predictions for making future predictions)\n",
        "validation_target=Y[-N//2:]\n",
        "validation_predictions = []\n",
        "#last train input\n",
        "last_x = X[-N//2] #1-D array\n",
        "while len(validation_predictions)<len(validation_target):\n",
        "  p = model.predict(last_x.reshape(1, -1))[0, 0] #1x1 array ->scalar\n",
        "  #update the prediction list\n",
        "  validation_predictions.append(p)\n",
        "  #make the new input\n",
        "  last_x=np.roll(last_x, -1)\n",
        "  last_x[-1]=p\n"
      ],
      "metadata": {
        "colab": {
          "base_uri": "https://localhost:8080/"
        },
        "id": "VsI3iGGIFMWN",
        "outputId": "b81010e5-ff3c-440e-8353-306febf7812d"
      },
      "execution_count": 20,
      "outputs": [
        {
          "output_type": "stream",
          "name": "stdout",
          "text": [
            "1/1 [==============================] - 0s 18ms/step\n",
            "1/1 [==============================] - 0s 17ms/step\n",
            "1/1 [==============================] - 0s 17ms/step\n",
            "1/1 [==============================] - 0s 16ms/step\n",
            "1/1 [==============================] - 0s 22ms/step\n",
            "1/1 [==============================] - 0s 17ms/step\n",
            "1/1 [==============================] - 0s 18ms/step\n",
            "1/1 [==============================] - 0s 17ms/step\n",
            "1/1 [==============================] - 0s 18ms/step\n",
            "1/1 [==============================] - 0s 18ms/step\n",
            "1/1 [==============================] - 0s 23ms/step\n",
            "1/1 [==============================] - 0s 20ms/step\n",
            "1/1 [==============================] - 0s 18ms/step\n",
            "1/1 [==============================] - 0s 22ms/step\n",
            "1/1 [==============================] - 0s 18ms/step\n",
            "1/1 [==============================] - 0s 17ms/step\n",
            "1/1 [==============================] - 0s 22ms/step\n",
            "1/1 [==============================] - 0s 24ms/step\n",
            "1/1 [==============================] - 0s 21ms/step\n",
            "1/1 [==============================] - 0s 22ms/step\n",
            "1/1 [==============================] - 0s 23ms/step\n",
            "1/1 [==============================] - 0s 20ms/step\n",
            "1/1 [==============================] - 0s 21ms/step\n",
            "1/1 [==============================] - 0s 18ms/step\n",
            "1/1 [==============================] - 0s 18ms/step\n",
            "1/1 [==============================] - 0s 17ms/step\n",
            "1/1 [==============================] - 0s 17ms/step\n",
            "1/1 [==============================] - 0s 17ms/step\n",
            "1/1 [==============================] - 0s 17ms/step\n",
            "1/1 [==============================] - 0s 21ms/step\n",
            "1/1 [==============================] - 0s 17ms/step\n",
            "1/1 [==============================] - 0s 18ms/step\n",
            "1/1 [==============================] - 0s 17ms/step\n",
            "1/1 [==============================] - 0s 18ms/step\n",
            "1/1 [==============================] - 0s 19ms/step\n",
            "1/1 [==============================] - 0s 19ms/step\n",
            "1/1 [==============================] - 0s 17ms/step\n",
            "1/1 [==============================] - 0s 18ms/step\n",
            "1/1 [==============================] - 0s 17ms/step\n",
            "1/1 [==============================] - 0s 22ms/step\n",
            "1/1 [==============================] - 0s 17ms/step\n",
            "1/1 [==============================] - 0s 17ms/step\n",
            "1/1 [==============================] - 0s 16ms/step\n",
            "1/1 [==============================] - 0s 17ms/step\n",
            "1/1 [==============================] - 0s 20ms/step\n",
            "1/1 [==============================] - 0s 18ms/step\n",
            "1/1 [==============================] - 0s 19ms/step\n",
            "1/1 [==============================] - 0s 17ms/step\n",
            "1/1 [==============================] - 0s 20ms/step\n",
            "1/1 [==============================] - 0s 22ms/step\n",
            "1/1 [==============================] - 0s 17ms/step\n",
            "1/1 [==============================] - 0s 21ms/step\n",
            "1/1 [==============================] - 0s 21ms/step\n",
            "1/1 [==============================] - 0s 17ms/step\n",
            "1/1 [==============================] - 0s 18ms/step\n",
            "1/1 [==============================] - 0s 18ms/step\n",
            "1/1 [==============================] - 0s 19ms/step\n",
            "1/1 [==============================] - 0s 16ms/step\n",
            "1/1 [==============================] - 0s 17ms/step\n",
            "1/1 [==============================] - 0s 23ms/step\n",
            "1/1 [==============================] - 0s 19ms/step\n",
            "1/1 [==============================] - 0s 18ms/step\n",
            "1/1 [==============================] - 0s 17ms/step\n",
            "1/1 [==============================] - 0s 17ms/step\n",
            "1/1 [==============================] - 0s 17ms/step\n",
            "1/1 [==============================] - 0s 17ms/step\n",
            "1/1 [==============================] - 0s 17ms/step\n",
            "1/1 [==============================] - 0s 18ms/step\n",
            "1/1 [==============================] - 0s 19ms/step\n",
            "1/1 [==============================] - 0s 17ms/step\n",
            "1/1 [==============================] - 0s 17ms/step\n",
            "1/1 [==============================] - 0s 17ms/step\n",
            "1/1 [==============================] - 0s 22ms/step\n",
            "1/1 [==============================] - 0s 21ms/step\n",
            "1/1 [==============================] - 0s 22ms/step\n",
            "1/1 [==============================] - 0s 18ms/step\n",
            "1/1 [==============================] - 0s 20ms/step\n",
            "1/1 [==============================] - 0s 19ms/step\n",
            "1/1 [==============================] - 0s 17ms/step\n",
            "1/1 [==============================] - 0s 19ms/step\n",
            "1/1 [==============================] - 0s 19ms/step\n",
            "1/1 [==============================] - 0s 18ms/step\n",
            "1/1 [==============================] - 0s 18ms/step\n",
            "1/1 [==============================] - 0s 20ms/step\n",
            "1/1 [==============================] - 0s 19ms/step\n",
            "1/1 [==============================] - 0s 19ms/step\n",
            "1/1 [==============================] - 0s 21ms/step\n",
            "1/1 [==============================] - 0s 21ms/step\n",
            "1/1 [==============================] - 0s 23ms/step\n",
            "1/1 [==============================] - 0s 18ms/step\n",
            "1/1 [==============================] - 0s 32ms/step\n",
            "1/1 [==============================] - 0s 17ms/step\n",
            "1/1 [==============================] - 0s 18ms/step\n",
            "1/1 [==============================] - 0s 20ms/step\n",
            "1/1 [==============================] - 0s 18ms/step\n"
          ]
        }
      ]
    },
    {
      "cell_type": "code",
      "source": [
        "plt.plot(validation_target, label='forecast target')\n",
        "plt.plot(validation_predictions, label='forecast prediction')\n",
        "plt.legend()"
      ],
      "metadata": {
        "colab": {
          "base_uri": "https://localhost:8080/",
          "height": 282
        },
        "id": "pW3nAKcMa1p4",
        "outputId": "3fa62bad-e123-45bb-d5c0-a58d7cb71f55"
      },
      "execution_count": 21,
      "outputs": [
        {
          "output_type": "execute_result",
          "data": {
            "text/plain": [
              "<matplotlib.legend.Legend at 0x7f44bbfef450>"
            ]
          },
          "metadata": {},
          "execution_count": 21
        },
        {
          "output_type": "display_data",
          "data": {
            "text/plain": [
              "<Figure size 432x288 with 1 Axes>"
            ],
            "image/png": "[encoded data removed]"
          },
          "metadata": {
            "needs_background": "light"
          }
        }
      ]
    }
  ]
}